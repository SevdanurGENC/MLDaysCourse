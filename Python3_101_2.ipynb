{
  "nbformat": 4,
  "nbformat_minor": 0,
  "metadata": {
    "kernelspec": {
      "display_name": "Python 3.8.1 64-bit ('3.8.1': pyenv)",
      "language": "python",
      "name": "python38164bit381pyenvf307e63da0224bf8a7246253ff8d7272"
    },
    "language_info": {
      "codemirror_mode": {
        "name": "ipython",
        "version": 3
      },
      "file_extension": ".py",
      "mimetype": "text/x-python",
      "name": "python",
      "nbconvert_exporter": "python",
      "pygments_lexer": "ipython3",
      "version": "3.8.1"
    },
    "colab": {
      "name": "Python3 101-2.ipynb",
      "provenance": []
    }
  },
  "cells": [
    {
      "cell_type": "markdown",
      "metadata": {
        "id": "EynilfXLrWOt",
        "colab_type": "text"
      },
      "source": [
        "### Tek satır for döngüsü (One-liner for)"
      ]
    },
    {
      "cell_type": "code",
      "metadata": {
        "id": "3biDInGbrWOu",
        "colab_type": "code",
        "colab": {
          "base_uri": "https://localhost:8080/",
          "height": 34
        },
        "outputId": "9ebc015c-d5bd-458a-fe1b-9608923095af"
      },
      "source": [
        "kelime = \"Python\"\n",
        "harf_listesi = []\n",
        "\n",
        "for harf in kelime:\n",
        "    harf_listesi.append(harf)\n",
        "    \n",
        "print(harf_listesi)"
      ],
      "execution_count": 1,
      "outputs": [
        {
          "output_type": "stream",
          "text": [
            "['P', 'y', 't', 'h', 'o', 'n']\n"
          ],
          "name": "stdout"
        }
      ]
    },
    {
      "cell_type": "code",
      "metadata": {
        "id": "3h4GYX58rWOy",
        "colab_type": "code",
        "colab": {
          "base_uri": "https://localhost:8080/",
          "height": 34
        },
        "outputId": "5f1eef90-f0b5-49f7-b0af-9c284ac2012a"
      },
      "source": [
        "harf_listesi = [harf for harf in \"Python\"]\n",
        "print(harf_listesi)"
      ],
      "execution_count": 4,
      "outputs": [
        {
          "output_type": "stream",
          "text": [
            "['P', 'y', 't', 'h', 'o', 'n']\n"
          ],
          "name": "stdout"
        }
      ]
    },
    {
      "cell_type": "markdown",
      "metadata": {
        "id": "R1waSRKbrWO1",
        "colab_type": "text"
      },
      "source": [
        "### Tek satır if (One-liner if)"
      ]
    },
    {
      "cell_type": "code",
      "metadata": {
        "id": "S81VPU45rWO1",
        "colab_type": "code",
        "colab": {}
      },
      "source": [
        "koşul = True\n",
        "\n",
        "if koşul:\n",
        "    kelime = \"Elma\"\n",
        "else:\n",
        "    kelime = \"Armut\""
      ],
      "execution_count": 0,
      "outputs": []
    },
    {
      "cell_type": "code",
      "metadata": {
        "id": "MKJPxDR_rWO5",
        "colab_type": "code",
        "colab": {}
      },
      "source": [
        "kelime = \"Elma\" if koşul else \"Armut\""
      ],
      "execution_count": 0,
      "outputs": []
    },
    {
      "cell_type": "markdown",
      "metadata": {
        "id": "wrqxBUfPrWO7",
        "colab_type": "text"
      },
      "source": [
        "### Tek satır fonksiyon Lambda (One-liner function Lambda)"
      ]
    },
    {
      "cell_type": "code",
      "metadata": {
        "id": "0F-67isQrWO8",
        "colab_type": "code",
        "colab": {
          "base_uri": "https://localhost:8080/",
          "height": 34
        },
        "outputId": "cf521172-0688-4368-ad02-1d354bdf06da"
      },
      "source": [
        "kare_al = lambda x: x**2\n",
        "kare_al(5)"
      ],
      "execution_count": 9,
      "outputs": [
        {
          "output_type": "execute_result",
          "data": {
            "text/plain": [
              "25"
            ]
          },
          "metadata": {
            "tags": []
          },
          "execution_count": 9
        }
      ]
    },
    {
      "cell_type": "markdown",
      "metadata": {
        "id": "YvlflTDnrWO-",
        "colab_type": "text"
      },
      "source": [
        "### map, reduce, filter, zip fonksiyonları"
      ]
    },
    {
      "cell_type": "code",
      "metadata": {
        "id": "6O-yWg8arWO-",
        "colab_type": "code",
        "colab": {
          "base_uri": "https://localhost:8080/",
          "height": 34
        },
        "outputId": "355e0f0d-abd6-43db-d531-2643f610110c"
      },
      "source": [
        "sayılar = [1, 2, 3, 4, 5, 6, 7]\n",
        "sayıların_kareleri = []\n",
        "\n",
        "for sayı in sayılar:\n",
        "    sayıların_kareleri.append(sayı**2)\n",
        "print(sayıların_kareleri)"
      ],
      "execution_count": 11,
      "outputs": [
        {
          "output_type": "stream",
          "text": [
            "[1, 4, 9, 16, 25, 36, 49]\n"
          ],
          "name": "stdout"
        }
      ]
    },
    {
      "cell_type": "code",
      "metadata": {
        "id": "hn4izVOrrWPC",
        "colab_type": "code",
        "colab": {
          "base_uri": "https://localhost:8080/",
          "height": 155
        },
        "outputId": "75e7e549-1863-4cb6-cd75-b9153ac9683a"
      },
      "source": [
        "sayıların_kareleri =  map(kare_al, sayılar)\n",
        "print(sayıların_kareleri)\n",
        "\n",
        "for sayı in sayıların_kareleri:\n",
        "    print(sayı)\n"
      ],
      "execution_count": 14,
      "outputs": [
        {
          "output_type": "stream",
          "text": [
            "<map object at 0x7ffb4e4666a0>\n",
            "1\n",
            "4\n",
            "9\n",
            "16\n",
            "25\n",
            "36\n",
            "49\n"
          ],
          "name": "stdout"
        }
      ]
    },
    {
      "cell_type": "code",
      "metadata": {
        "id": "c2tmQ-PFrWPF",
        "colab_type": "code",
        "colab": {
          "base_uri": "https://localhost:8080/",
          "height": 34
        },
        "outputId": "24ef1f62-968b-462f-d111-d9b14ff3adf4"
      },
      "source": [
        "from functools import reduce\n",
        "\n",
        "sayılar = [1, 6, 3, 7, 10, 0]\n",
        "print(reduce(lambda x,y: x if x > y else y, sayılar))"
      ],
      "execution_count": 15,
      "outputs": [
        {
          "output_type": "stream",
          "text": [
            "10\n"
          ],
          "name": "stdout"
        }
      ]
    },
    {
      "cell_type": "code",
      "metadata": {
        "id": "NQ0B7zRXrWPI",
        "colab_type": "code",
        "colab": {
          "base_uri": "https://localhost:8080/",
          "height": 51
        },
        "outputId": "0e6a71bd-8ca7-4836-9c02-41d91cf7d573"
      },
      "source": [
        "def beşten_uzun(kelime):\n",
        "    if len(kelime) > 5:\n",
        "        return True\n",
        "    else:\n",
        "        return False\n",
        "isimler = ['Oğuz', 'Ahmet', 'Necati', 'Ali', 'Mehmet', 'Ziya']\n",
        "uzun_isimler = filter(beşten_uzun, isimler)\n",
        "print(uzun_isimler)\n",
        "\"\"\"\n",
        "for isim in uzun_isimler:\n",
        "    print(isim)\n",
        "\"\"\""
      ],
      "execution_count": 16,
      "outputs": [
        {
          "output_type": "stream",
          "text": [
            "<filter object at 0x7ffb4e3cf6a0>\n"
          ],
          "name": "stdout"
        },
        {
          "output_type": "execute_result",
          "data": {
            "text/plain": [
              "'\\nfor isim in uzun_isimler:\\n    print(isim)\\n'"
            ]
          },
          "metadata": {
            "tags": []
          },
          "execution_count": 16
        }
      ]
    },
    {
      "cell_type": "code",
      "metadata": {
        "id": "zRmdZBKprWPL",
        "colab_type": "code",
        "colab": {
          "base_uri": "https://localhost:8080/",
          "height": 138
        },
        "outputId": "0734abf6-7ddc-4da5-eb29-604e5e6872ac"
      },
      "source": [
        "sayılar = [0, 1, 2, 3, 4, 5]\n",
        "isimler = ['Oğuz', 'Ahmet', 'Necati', 'Ali', 'Mehmet', 'Ziya']\n",
        "\n",
        "for i in range(len(sayılar)):\n",
        "    print(sayılar[i], isimler[i])\n",
        "    \n",
        "\"\"\"\n",
        "for i in zip(sayılar, isimler):\n",
        "    print(i)\n",
        "\"\"\""
      ],
      "execution_count": 17,
      "outputs": [
        {
          "output_type": "stream",
          "text": [
            "0 Oğuz\n",
            "1 Ahmet\n",
            "2 Necati\n",
            "3 Ali\n",
            "4 Mehmet\n",
            "5 Ziya\n"
          ],
          "name": "stdout"
        },
        {
          "output_type": "execute_result",
          "data": {
            "text/plain": [
              "'\\nfor i in zip(sayılar, isimler):\\n    print(i)\\n'"
            ]
          },
          "metadata": {
            "tags": []
          },
          "execution_count": 17
        }
      ]
    },
    {
      "cell_type": "markdown",
      "metadata": {
        "id": "i1QwA1zwrWPN",
        "colab_type": "text"
      },
      "source": [
        "### Assert anahtar kelimesi ( Assert keyword )"
      ]
    },
    {
      "cell_type": "code",
      "metadata": {
        "id": "qDaW8CM4rWPO",
        "colab_type": "code",
        "colab": {
          "base_uri": "https://localhost:8080/",
          "height": 34
        },
        "outputId": "981c096d-49c3-456d-887c-d96501adc6c9"
      },
      "source": [
        "yaş = input(\"Yaşınız:\")\n",
        "assert int(yaş) >= 0, \"Yaşınız negatif olamaz\""
      ],
      "execution_count": 20,
      "outputs": [
        {
          "output_type": "stream",
          "text": [
            "Yaşınız:90\n"
          ],
          "name": "stdout"
        }
      ]
    },
    {
      "cell_type": "markdown",
      "metadata": {
        "id": "bbOafU-xrWPQ",
        "colab_type": "text"
      },
      "source": [
        "### Üreteçler (Generators)"
      ]
    },
    {
      "cell_type": "code",
      "metadata": {
        "id": "HHMn6s3orWPR",
        "colab_type": "code",
        "colab": {
          "base_uri": "https://localhost:8080/",
          "height": 86
        },
        "outputId": "d15e4c02-b912-423b-f332-ab68d4b95f13"
      },
      "source": [
        "def generator():\n",
        "    i = 1\n",
        "    print('Öncelikle bu basıldı')\n",
        "    yield i\n",
        "\n",
        "    i += 1\n",
        "    print('Sonra bu')\n",
        "    yield i\n",
        "\n",
        "for eleman in generator():\n",
        "    print(\"For döngüsü içinde:\", eleman)\n",
        "#print(next())"
      ],
      "execution_count": 21,
      "outputs": [
        {
          "output_type": "stream",
          "text": [
            "Öncelikle bu basıldı\n",
            "For döngüsü içinde: 1\n",
            "Sonra bu\n",
            "For döngüsü içinde: 2\n"
          ],
          "name": "stdout"
        }
      ]
    },
    {
      "cell_type": "code",
      "metadata": {
        "id": "-D0C9xVDrWPT",
        "colab_type": "code",
        "colab": {
          "base_uri": "https://localhost:8080/",
          "height": 69
        },
        "outputId": "3fce1b9f-6d19-4dad-f9ee-23728b8b1622"
      },
      "source": [
        "a = 5    ## global\n",
        "\n",
        "def outer(): \n",
        "    a = 3  ## local\n",
        "    def inner():\n",
        "        nonlocal a  ## nonlocal bir disaridaki degeri cagirir\n",
        "        a += 5\n",
        "        print(\"inner fonksiyon:\", a)\n",
        "    print(\"outer fonksiyon:\", a)\n",
        "    return inner()\n",
        "\n",
        "outer()\n",
        "print(\"global:\", a)"
      ],
      "execution_count": 23,
      "outputs": [
        {
          "output_type": "stream",
          "text": [
            "outer fonksiyon: 3\n",
            "inner fonksiyon: 8\n",
            "global: 5\n"
          ],
          "name": "stdout"
        }
      ]
    },
    {
      "cell_type": "markdown",
      "metadata": {
        "id": "ro__eEd-rWPV",
        "colab_type": "text"
      },
      "source": [
        "### Decorators"
      ]
    },
    {
      "cell_type": "code",
      "metadata": {
        "id": "LYtBMax7rWPV",
        "colab_type": "code",
        "colab": {
          "base_uri": "https://localhost:8080/",
          "height": 86
        },
        "outputId": "699ab35a-4b09-4a85-94c9-448186177099"
      },
      "source": [
        "from datetime import datetime\n",
        "\n",
        "def show_time(func):\n",
        "    def wrapper():\n",
        "        print(\"Time:\", datetime.now().time())\n",
        "        func()\n",
        "    return wrapper\n",
        "\n",
        "@show_time\n",
        "def say_hi():\n",
        "    print(\"Hi!\")\n",
        "\n",
        "@show_time\n",
        "def say_bye():\n",
        "    print(\"Bye!\")\n",
        "    \n",
        "say_hi()\n",
        "say_bye()"
      ],
      "execution_count": 25,
      "outputs": [
        {
          "output_type": "stream",
          "text": [
            "Time: 19:02:50.905476\n",
            "Hi!\n",
            "Time: 19:02:50.905652\n",
            "Bye!\n"
          ],
          "name": "stdout"
        }
      ]
    },
    {
      "cell_type": "markdown",
      "metadata": {
        "id": "J140OWrBrWPY",
        "colab_type": "text"
      },
      "source": [
        "# Numpy"
      ]
    },
    {
      "cell_type": "markdown",
      "metadata": {
        "id": "pLAyFxUXrWPZ",
        "colab_type": "text"
      },
      "source": [
        "![Scalar Vector Matrix Tensor](https://res.cloudinary.com/practicaldev/image/fetch/s--oTgfo1EL--/c_limit%2Cf_auto%2Cfl_progressive%2Cq_auto%2Cw_880/https://raw.githubusercontent.com/adhiraiyan/DeepLearningWithTF2.0/master/notebooks/figures/fig0201a.png)"
      ]
    },
    {
      "cell_type": "code",
      "metadata": {
        "id": "W-flmfv9rWPa",
        "colab_type": "code",
        "colab": {}
      },
      "source": [
        "import numpy as np"
      ],
      "execution_count": 0,
      "outputs": []
    },
    {
      "cell_type": "code",
      "metadata": {
        "id": "PW7y_qYxrWPc",
        "colab_type": "code",
        "colab": {
          "base_uri": "https://localhost:8080/",
          "height": 51
        },
        "outputId": "d7b39c13-93aa-4263-a4af-fa23709860cf"
      },
      "source": [
        "a = np.array([10, 20, 30, 40, 50, 60])   # vector\n",
        "print(type(a))\n",
        "print(a.shape)"
      ],
      "execution_count": 28,
      "outputs": [
        {
          "output_type": "stream",
          "text": [
            "<class 'numpy.ndarray'>\n",
            "(6,)\n"
          ],
          "name": "stdout"
        }
      ]
    },
    {
      "cell_type": "code",
      "metadata": {
        "id": "V7z7qFzyrWPf",
        "colab_type": "code",
        "colab": {
          "base_uri": "https://localhost:8080/",
          "height": 34
        },
        "outputId": "1cc8e752-0a54-4331-ed22-26e8e70a6081"
      },
      "source": [
        "a[2]"
      ],
      "execution_count": 29,
      "outputs": [
        {
          "output_type": "execute_result",
          "data": {
            "text/plain": [
              "30"
            ]
          },
          "metadata": {
            "tags": []
          },
          "execution_count": 29
        }
      ]
    },
    {
      "cell_type": "code",
      "metadata": {
        "id": "yMNi9M-zrWPh",
        "colab_type": "code",
        "colab": {
          "base_uri": "https://localhost:8080/",
          "height": 34
        },
        "outputId": "26b307ba-fb13-4ea2-f588-9231ffdf5b1e"
      },
      "source": [
        "a[2] *= 2\n",
        "print(a[2])"
      ],
      "execution_count": 30,
      "outputs": [
        {
          "output_type": "stream",
          "text": [
            "60\n"
          ],
          "name": "stdout"
        }
      ]
    },
    {
      "cell_type": "code",
      "metadata": {
        "id": "XFUwktELrWPj",
        "colab_type": "code",
        "colab": {
          "base_uri": "https://localhost:8080/",
          "height": 86
        },
        "outputId": "11d932bd-1da6-446d-89c5-1129e6b130a4"
      },
      "source": [
        "b = np.array([\n",
        "    [10, 20, 30],\n",
        "    [40, 50, 60]\n",
        "])\n",
        "print(b)\n",
        "print(b.shape)\n",
        "print(b.dtype)"
      ],
      "execution_count": 31,
      "outputs": [
        {
          "output_type": "stream",
          "text": [
            "[[10 20 30]\n",
            " [40 50 60]]\n",
            "(2, 3)\n",
            "int64\n"
          ],
          "name": "stdout"
        }
      ]
    },
    {
      "cell_type": "code",
      "metadata": {
        "id": "XlXeIP0urWPl",
        "colab_type": "code",
        "colab": {
          "base_uri": "https://localhost:8080/",
          "height": 51
        },
        "outputId": "10eba37f-bd58-4af3-e406-a27321f4b85e"
      },
      "source": [
        "a = np.array([10, 20, 30, 40, 50, 60])\n",
        "np.sin(a)"
      ],
      "execution_count": 32,
      "outputs": [
        {
          "output_type": "execute_result",
          "data": {
            "text/plain": [
              "array([-0.54402111,  0.91294525, -0.98803162,  0.74511316, -0.26237485,\n",
              "       -0.30481062])"
            ]
          },
          "metadata": {
            "tags": []
          },
          "execution_count": 32
        }
      ]
    },
    {
      "cell_type": "code",
      "metadata": {
        "id": "2SMafRNtrWPn",
        "colab_type": "code",
        "colab": {
          "base_uri": "https://localhost:8080/",
          "height": 51
        },
        "outputId": "3d5a579e-17b7-4ddb-cf4b-32c3159c594c"
      },
      "source": [
        "np.cos(a)"
      ],
      "execution_count": 33,
      "outputs": [
        {
          "output_type": "execute_result",
          "data": {
            "text/plain": [
              "array([-0.83907153,  0.40808206,  0.15425145, -0.66693806,  0.96496603,\n",
              "       -0.95241298])"
            ]
          },
          "metadata": {
            "tags": []
          },
          "execution_count": 33
        }
      ]
    },
    {
      "cell_type": "code",
      "metadata": {
        "id": "PtlS5hTJrWPq",
        "colab_type": "code",
        "colab": {
          "base_uri": "https://localhost:8080/",
          "height": 51
        },
        "outputId": "6742990a-9084-4251-d3a1-9d61effebc01"
      },
      "source": [
        "np.log(a)"
      ],
      "execution_count": 34,
      "outputs": [
        {
          "output_type": "execute_result",
          "data": {
            "text/plain": [
              "array([2.30258509, 2.99573227, 3.40119738, 3.68887945, 3.91202301,\n",
              "       4.09434456])"
            ]
          },
          "metadata": {
            "tags": []
          },
          "execution_count": 34
        }
      ]
    },
    {
      "cell_type": "code",
      "metadata": {
        "id": "HYe9zUSyrWPt",
        "colab_type": "code",
        "colab": {
          "base_uri": "https://localhost:8080/",
          "height": 51
        },
        "outputId": "a5b8b69f-f0c6-4853-b57c-481b737df645"
      },
      "source": [
        "np.exp(a)"
      ],
      "execution_count": 35,
      "outputs": [
        {
          "output_type": "execute_result",
          "data": {
            "text/plain": [
              "array([2.20264658e+04, 4.85165195e+08, 1.06864746e+13, 2.35385267e+17,\n",
              "       5.18470553e+21, 1.14200739e+26])"
            ]
          },
          "metadata": {
            "tags": []
          },
          "execution_count": 35
        }
      ]
    },
    {
      "cell_type": "code",
      "metadata": {
        "id": "JZFdt86SrWPw",
        "colab_type": "code",
        "colab": {
          "base_uri": "https://localhost:8080/",
          "height": 34
        },
        "outputId": "f048f340-16e4-4d09-eb50-72ac71785777"
      },
      "source": [
        "np.max(a)"
      ],
      "execution_count": 36,
      "outputs": [
        {
          "output_type": "execute_result",
          "data": {
            "text/plain": [
              "60"
            ]
          },
          "metadata": {
            "tags": []
          },
          "execution_count": 36
        }
      ]
    },
    {
      "cell_type": "code",
      "metadata": {
        "id": "pI5G14jArWPz",
        "colab_type": "code",
        "colab": {
          "base_uri": "https://localhost:8080/",
          "height": 34
        },
        "outputId": "ceed6a8e-ab3c-4a06-d329-d7792412c7a6"
      },
      "source": [
        "np.min(a)"
      ],
      "execution_count": 37,
      "outputs": [
        {
          "output_type": "execute_result",
          "data": {
            "text/plain": [
              "10"
            ]
          },
          "metadata": {
            "tags": []
          },
          "execution_count": 37
        }
      ]
    },
    {
      "cell_type": "code",
      "metadata": {
        "id": "b6yNvtixrWP1",
        "colab_type": "code",
        "colab": {
          "base_uri": "https://localhost:8080/",
          "height": 34
        },
        "outputId": "a3b29ef0-52f5-4077-ef5a-0f94ff03bcb8"
      },
      "source": [
        "np.argmax(a)  ## max degerin hangi indexte oldugunu gosterir."
      ],
      "execution_count": 57,
      "outputs": [
        {
          "output_type": "execute_result",
          "data": {
            "text/plain": [
              "5"
            ]
          },
          "metadata": {
            "tags": []
          },
          "execution_count": 57
        }
      ]
    },
    {
      "cell_type": "code",
      "metadata": {
        "id": "XheD4Z5KrWP4",
        "colab_type": "code",
        "colab": {
          "base_uri": "https://localhost:8080/",
          "height": 34
        },
        "outputId": "8005a1f4-bb02-429b-9058-439fdfbd697d"
      },
      "source": [
        "np.mean(a)"
      ],
      "execution_count": 58,
      "outputs": [
        {
          "output_type": "execute_result",
          "data": {
            "text/plain": [
              "35.0"
            ]
          },
          "metadata": {
            "tags": []
          },
          "execution_count": 58
        }
      ]
    },
    {
      "cell_type": "code",
      "metadata": {
        "id": "_fiLuQdQrWP8",
        "colab_type": "code",
        "colab": {
          "base_uri": "https://localhost:8080/",
          "height": 34
        },
        "outputId": "3eff08ed-be75-408e-8dca-addbd54d151a"
      },
      "source": [
        "np.median(a)"
      ],
      "execution_count": 59,
      "outputs": [
        {
          "output_type": "execute_result",
          "data": {
            "text/plain": [
              "35.0"
            ]
          },
          "metadata": {
            "tags": []
          },
          "execution_count": 59
        }
      ]
    },
    {
      "cell_type": "code",
      "metadata": {
        "id": "F1xKFBqfrWQB",
        "colab_type": "code",
        "colab": {
          "base_uri": "https://localhost:8080/",
          "height": 34
        },
        "outputId": "77123f4c-85af-45f4-b694-9bc58a067efa"
      },
      "source": [
        "np.std(a)"
      ],
      "execution_count": 60,
      "outputs": [
        {
          "output_type": "execute_result",
          "data": {
            "text/plain": [
              "17.07825127659933"
            ]
          },
          "metadata": {
            "tags": []
          },
          "execution_count": 60
        }
      ]
    },
    {
      "cell_type": "code",
      "metadata": {
        "id": "n-_eqZX5rWQE",
        "colab_type": "code",
        "colab": {
          "base_uri": "https://localhost:8080/",
          "height": 69
        },
        "outputId": "ff59d46c-3802-4065-a38a-7ba76500c43c"
      },
      "source": [
        "print(b)\n",
        "# axis=1 => Row\n",
        "# axis=0 => Column\n",
        "np.sum(b, axis=1)  # verilen sutun veya satirdaki degerleri topluyor."
      ],
      "execution_count": 62,
      "outputs": [
        {
          "output_type": "stream",
          "text": [
            "[[10 20 30]\n",
            " [40 50 60]]\n"
          ],
          "name": "stdout"
        },
        {
          "output_type": "execute_result",
          "data": {
            "text/plain": [
              "array([ 60, 150])"
            ]
          },
          "metadata": {
            "tags": []
          },
          "execution_count": 62
        }
      ]
    },
    {
      "cell_type": "code",
      "metadata": {
        "id": "VE19UyQGrWQJ",
        "colab_type": "code",
        "colab": {
          "base_uri": "https://localhost:8080/",
          "height": 69
        },
        "outputId": "07db1016-83c7-472b-cf27-14dfd64a18af"
      },
      "source": [
        "zeros = np.zeros((3, 3))\n",
        "print(zeros)"
      ],
      "execution_count": 43,
      "outputs": [
        {
          "output_type": "stream",
          "text": [
            "[[0. 0. 0.]\n",
            " [0. 0. 0.]\n",
            " [0. 0. 0.]]\n"
          ],
          "name": "stdout"
        }
      ]
    },
    {
      "cell_type": "code",
      "metadata": {
        "id": "TEgmx7YBrWQN",
        "colab_type": "code",
        "colab": {
          "base_uri": "https://localhost:8080/",
          "height": 69
        },
        "outputId": "22b12fca-12b1-46db-c6d7-45e95ed364cc"
      },
      "source": [
        "ones = np.ones((3, 3))\n",
        "print(ones)"
      ],
      "execution_count": 44,
      "outputs": [
        {
          "output_type": "stream",
          "text": [
            "[[1. 1. 1.]\n",
            " [1. 1. 1.]\n",
            " [1. 1. 1.]]\n"
          ],
          "name": "stdout"
        }
      ]
    },
    {
      "cell_type": "code",
      "metadata": {
        "id": "BRZtNcIJrWQO",
        "colab_type": "code",
        "colab": {
          "base_uri": "https://localhost:8080/",
          "height": 69
        },
        "outputId": "5cc08159-6c81-4a4f-eee8-119651837e37"
      },
      "source": [
        "full = np.full((3, 3), 5)\n",
        "print(full)"
      ],
      "execution_count": 64,
      "outputs": [
        {
          "output_type": "stream",
          "text": [
            "[[5 5 5]\n",
            " [5 5 5]\n",
            " [5 5 5]]\n"
          ],
          "name": "stdout"
        }
      ]
    },
    {
      "cell_type": "code",
      "metadata": {
        "id": "F_fPUDo4rWQR",
        "colab_type": "code",
        "colab": {
          "base_uri": "https://localhost:8080/",
          "height": 103
        },
        "outputId": "ae03330a-21df-4d47-ed06-bb4ad4b529e7"
      },
      "source": [
        "eye = np.eye(5)  # birim matris\n",
        "print(eye)"
      ],
      "execution_count": 46,
      "outputs": [
        {
          "output_type": "stream",
          "text": [
            "[[1. 0. 0. 0. 0.]\n",
            " [0. 1. 0. 0. 0.]\n",
            " [0. 0. 1. 0. 0.]\n",
            " [0. 0. 0. 1. 0.]\n",
            " [0. 0. 0. 0. 1.]]\n"
          ],
          "name": "stdout"
        }
      ]
    },
    {
      "cell_type": "code",
      "metadata": {
        "id": "8ueR5nDtrWQS",
        "colab_type": "code",
        "colab": {
          "base_uri": "https://localhost:8080/",
          "height": 51
        },
        "outputId": "f0ba4965-4ea2-4445-cb8c-8c7060a83e5c"
      },
      "source": [
        "arange = np.arange(7)   # 0 dan verilen degere kadar deger olusturur\n",
        "print(arange)\n",
        "\n",
        "arange = np.arange(0, 10, 2)  #range'de ondalikli sayilar kullanamiyoruz artis degeri icin\n",
        "print(arange)"
      ],
      "execution_count": 66,
      "outputs": [
        {
          "output_type": "stream",
          "text": [
            "[0 1 2 3 4 5 6]\n",
            "[0 2 4 6 8]\n"
          ],
          "name": "stdout"
        }
      ]
    },
    {
      "cell_type": "code",
      "metadata": {
        "id": "6LA_RU5DrWQV",
        "colab_type": "code",
        "colab": {
          "base_uri": "https://localhost:8080/",
          "height": 172
        },
        "outputId": "b3ce1c18-f696-40b0-bd48-0b8295f90104"
      },
      "source": [
        "random = np.random.random((3, 3))  # 0 ve 1 arasinda rastgele sayi uretir\n",
        "print(random)\n",
        "\n",
        "random = np.random.random((3, 3)) * 20  # 0 ve 20 arasinda rastgele sayi uretir\n",
        "print(random)\n",
        "\n",
        "random = np.ceil(np.random.random((3, 3)) *20 )  # ceil ile ondalikli kismini siliyoruz\n",
        "print(random)"
      ],
      "execution_count": 72,
      "outputs": [
        {
          "output_type": "stream",
          "text": [
            "[[0.52083534 0.47235471 0.15747712]\n",
            " [0.6649903  0.02147872 0.91911024]\n",
            " [0.02893614 0.64037522 0.65948105]]\n",
            "[[18.62043317 19.50135349 18.65698415]\n",
            " [ 5.30655345 17.70058424 10.8685707 ]\n",
            " [ 6.90246365  1.3231496  16.02662891]]\n",
            "[[ 7. 11. 14.]\n",
            " [ 5. 20. 13.]\n",
            " [ 3. 13.  9.]]\n"
          ],
          "name": "stdout"
        }
      ]
    },
    {
      "cell_type": "code",
      "metadata": {
        "id": "vDCRWrN4rWQW",
        "colab_type": "code",
        "colab": {
          "base_uri": "https://localhost:8080/",
          "height": 103
        },
        "outputId": "2893d85c-28f8-4cbb-f9fd-d936d9c37f70"
      },
      "source": [
        "arr = np.random.randint(20, size=(5, 5))\n",
        "print(arr)"
      ],
      "execution_count": 73,
      "outputs": [
        {
          "output_type": "stream",
          "text": [
            "[[11 19 17 17 10]\n",
            " [19 15  4 18  8]\n",
            " [ 9 17  1  8  6]\n",
            " [11  1  0  9  6]\n",
            " [18 15  0 18 14]]\n"
          ],
          "name": "stdout"
        }
      ]
    },
    {
      "cell_type": "code",
      "metadata": {
        "id": "sVJfoaRlrWQZ",
        "colab_type": "code",
        "colab": {
          "base_uri": "https://localhost:8080/",
          "height": 34
        },
        "outputId": "3b9f4161-e8e8-4203-fda9-5f77b771e178"
      },
      "source": [
        "arr[2, 1]"
      ],
      "execution_count": 74,
      "outputs": [
        {
          "output_type": "execute_result",
          "data": {
            "text/plain": [
              "17"
            ]
          },
          "metadata": {
            "tags": []
          },
          "execution_count": 74
        }
      ]
    },
    {
      "cell_type": "code",
      "metadata": {
        "id": "EuJGlR56rWQc",
        "colab_type": "code",
        "colab": {
          "base_uri": "https://localhost:8080/",
          "height": 69
        },
        "outputId": "5a52baa3-d882-458f-d4a2-4d562e5b2572"
      },
      "source": [
        "zeros"
      ],
      "execution_count": 75,
      "outputs": [
        {
          "output_type": "execute_result",
          "data": {
            "text/plain": [
              "array([[0., 0., 0.],\n",
              "       [0., 0., 0.],\n",
              "       [0., 0., 0.]])"
            ]
          },
          "metadata": {
            "tags": []
          },
          "execution_count": 75
        }
      ]
    },
    {
      "cell_type": "code",
      "metadata": {
        "id": "5YgoX2AYrWQg",
        "colab_type": "code",
        "colab": {
          "base_uri": "https://localhost:8080/",
          "height": 103
        },
        "outputId": "cd5bac1a-a5e2-4a6b-94e0-8d8ec88d1095"
      },
      "source": [
        "eye*6"
      ],
      "execution_count": 76,
      "outputs": [
        {
          "output_type": "execute_result",
          "data": {
            "text/plain": [
              "array([[6., 0., 0., 0., 0.],\n",
              "       [0., 6., 0., 0., 0.],\n",
              "       [0., 0., 6., 0., 0.],\n",
              "       [0., 0., 0., 6., 0.],\n",
              "       [0., 0., 0., 0., 6.]])"
            ]
          },
          "metadata": {
            "tags": []
          },
          "execution_count": 76
        }
      ]
    },
    {
      "cell_type": "code",
      "metadata": {
        "id": "LDJoklotrWQk",
        "colab_type": "code",
        "colab": {
          "base_uri": "https://localhost:8080/",
          "height": 103
        },
        "outputId": "549e932e-aa59-4d18-f24f-b8e841d1581c"
      },
      "source": [
        "arr == 4"
      ],
      "execution_count": 77,
      "outputs": [
        {
          "output_type": "execute_result",
          "data": {
            "text/plain": [
              "array([[False, False, False, False, False],\n",
              "       [False, False,  True, False, False],\n",
              "       [False, False, False, False, False],\n",
              "       [False, False, False, False, False],\n",
              "       [False, False, False, False, False]])"
            ]
          },
          "metadata": {
            "tags": []
          },
          "execution_count": 77
        }
      ]
    },
    {
      "cell_type": "code",
      "metadata": {
        "id": "cwfC1ncUrWQm",
        "colab_type": "code",
        "colab": {
          "base_uri": "https://localhost:8080/",
          "height": 34
        },
        "outputId": "7ec99fd1-b3a0-4579-bd03-93700df464b6"
      },
      "source": [
        "np.where(arr == 4)"
      ],
      "execution_count": 54,
      "outputs": [
        {
          "output_type": "execute_result",
          "data": {
            "text/plain": [
              "(array([], dtype=int64), array([], dtype=int64))"
            ]
          },
          "metadata": {
            "tags": []
          },
          "execution_count": 54
        }
      ]
    },
    {
      "cell_type": "code",
      "metadata": {
        "id": "MAZYKoECrWQs",
        "colab_type": "code",
        "colab": {
          "base_uri": "https://localhost:8080/",
          "height": 86
        },
        "outputId": "d08fae69-0141-4bc1-895e-cadac51b68a8"
      },
      "source": [
        "np.array([\n",
        "    [1, 2, 3, 4],\n",
        "    [5, 6, 7, 8],\n",
        "    [9, 10, 11, 12]\n",
        "]).reshape(4, 3)"
      ],
      "execution_count": 80,
      "outputs": [
        {
          "output_type": "execute_result",
          "data": {
            "text/plain": [
              "array([[ 1,  2,  3],\n",
              "       [ 4,  5,  6],\n",
              "       [ 7,  8,  9],\n",
              "       [10, 11, 12]])"
            ]
          },
          "metadata": {
            "tags": []
          },
          "execution_count": 80
        }
      ]
    },
    {
      "cell_type": "code",
      "metadata": {
        "id": "ZQeoC_J9rWQw",
        "colab_type": "code",
        "colab": {
          "base_uri": "https://localhost:8080/",
          "height": 120
        },
        "outputId": "584917db-a016-4f05-c494-742d78446c88"
      },
      "source": [
        "c = np.random.randint(10, size=(3, 3))\n",
        "print(c)\n",
        "c_inv = np.linalg.inv(c)   \n",
        "print(c_inv)\n",
        "# inv : matrisin tersini aliyor\n",
        "# linalg : linear algebra"
      ],
      "execution_count": 81,
      "outputs": [
        {
          "output_type": "stream",
          "text": [
            "[[6 4 7]\n",
            " [5 2 8]\n",
            " [8 6 9]]\n",
            "[[ 5.         -1.         -3.        ]\n",
            " [-3.16666667  0.33333333  2.16666667]\n",
            " [-2.33333333  0.66666667  1.33333333]]\n"
          ],
          "name": "stdout"
        }
      ]
    },
    {
      "cell_type": "markdown",
      "metadata": {
        "id": "3lJ8ORlLrWQy",
        "colab_type": "text"
      },
      "source": [
        "## İç Çarpım (Dot product)\n",
        "![Dot product](https://algebra1course.files.wordpress.com/2013/02/slide10.jpg)\n",
        "\n",
        "credit: https://algebra1course.files.wordpress.com/"
      ]
    },
    {
      "cell_type": "code",
      "metadata": {
        "id": "wuzkKibkrWQy",
        "colab_type": "code",
        "colab": {
          "base_uri": "https://localhost:8080/",
          "height": 69
        },
        "outputId": "01ae485c-a489-40f9-db3d-5fce1e90ea37"
      },
      "source": [
        "a = np.array([\n",
        "    [1, 2, 3],\n",
        "    [4, 5, 6]\n",
        "])\n",
        "print(a.shape)\n",
        "print(a)"
      ],
      "execution_count": 84,
      "outputs": [
        {
          "output_type": "stream",
          "text": [
            "(2, 3)\n",
            "[[1 2 3]\n",
            " [4 5 6]]\n"
          ],
          "name": "stdout"
        }
      ]
    },
    {
      "cell_type": "code",
      "metadata": {
        "id": "nqvV2BxZrWQ0",
        "colab_type": "code",
        "colab": {
          "base_uri": "https://localhost:8080/",
          "height": 69
        },
        "outputId": "2ba4758c-1102-4acb-ad0a-c2cec520be9d"
      },
      "source": [
        "b = np.array([\n",
        "    [7, 8, 9],\n",
        "    [10, 11, 12]\n",
        "])\n",
        "print(b.shape)\n",
        "print(b)"
      ],
      "execution_count": 87,
      "outputs": [
        {
          "output_type": "stream",
          "text": [
            "(2, 3)\n",
            "[[ 7  8  9]\n",
            " [10 11 12]]\n"
          ],
          "name": "stdout"
        }
      ]
    },
    {
      "cell_type": "code",
      "metadata": {
        "id": "DGEi4DMQrWQ1",
        "colab_type": "code",
        "colab": {
          "base_uri": "https://localhost:8080/",
          "height": 199
        },
        "outputId": "90f5e2a0-00d7-4f51-9468-5cb37aca1fa4"
      },
      "source": [
        "axb = np.dot(a, b)"
      ],
      "execution_count": 88,
      "outputs": [
        {
          "output_type": "error",
          "ename": "ValueError",
          "evalue": "ignored",
          "traceback": [
            "\u001b[0;31m---------------------------------------------------------------------------\u001b[0m",
            "\u001b[0;31mValueError\u001b[0m                                Traceback (most recent call last)",
            "\u001b[0;32m<ipython-input-88-4eecf7a22330>\u001b[0m in \u001b[0;36m<module>\u001b[0;34m()\u001b[0m\n\u001b[0;32m----> 1\u001b[0;31m \u001b[0maxb\u001b[0m \u001b[0;34m=\u001b[0m \u001b[0mnp\u001b[0m\u001b[0;34m.\u001b[0m\u001b[0mdot\u001b[0m\u001b[0;34m(\u001b[0m\u001b[0ma\u001b[0m\u001b[0;34m,\u001b[0m \u001b[0mb\u001b[0m\u001b[0;34m)\u001b[0m\u001b[0;34m\u001b[0m\u001b[0;34m\u001b[0m\u001b[0m\n\u001b[0m",
            "\u001b[0;32m<__array_function__ internals>\u001b[0m in \u001b[0;36mdot\u001b[0;34m(*args, **kwargs)\u001b[0m\n",
            "\u001b[0;31mValueError\u001b[0m: shapes (2,3) and (2,3) not aligned: 3 (dim 1) != 2 (dim 0)"
          ]
        }
      ]
    },
    {
      "cell_type": "code",
      "metadata": {
        "id": "pr9DIREPrWQ3",
        "colab_type": "code",
        "colab": {
          "base_uri": "https://localhost:8080/",
          "height": 103
        },
        "outputId": "93f53f08-02e9-4e90-f857-5fe55a9a3b66"
      },
      "source": [
        "(b.T).shape  #transpozu aliniyor\n",
        "print(b.T)\n",
        "print(a)"
      ],
      "execution_count": 92,
      "outputs": [
        {
          "output_type": "stream",
          "text": [
            "[[ 7 10]\n",
            " [ 8 11]\n",
            " [ 9 12]]\n",
            "[[1 2 3]\n",
            " [4 5 6]]\n"
          ],
          "name": "stdout"
        }
      ]
    },
    {
      "cell_type": "code",
      "metadata": {
        "id": "_HoNC8q1rWQ5",
        "colab_type": "code",
        "colab": {
          "base_uri": "https://localhost:8080/",
          "height": 69
        },
        "outputId": "2c7d96d1-b1f0-48ea-a199-56160f970e50"
      },
      "source": [
        "axb = np.dot(a, b.T)\n",
        "print(axb)\n",
        "print(axb.shape)"
      ],
      "execution_count": 93,
      "outputs": [
        {
          "output_type": "stream",
          "text": [
            "[[ 50  68]\n",
            " [122 167]]\n",
            "(2, 2)\n"
          ],
          "name": "stdout"
        }
      ]
    },
    {
      "cell_type": "code",
      "metadata": {
        "id": "XglTU9lWrWQ6",
        "colab_type": "code",
        "colab": {}
      },
      "source": [
        ""
      ],
      "execution_count": 0,
      "outputs": []
    }
  ]
}