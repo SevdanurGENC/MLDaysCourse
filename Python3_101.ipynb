{
  "nbformat": 4,
  "nbformat_minor": 0,
  "metadata": {
    "colab": {
      "name": "Copy of Python3 101.ipynb",
      "provenance": []
    },
    "kernelspec": {
      "display_name": "Python 3.8.1 64-bit ('3.8.1': pyenv)",
      "language": "python",
      "name": "python38164bit381pyenvf307e63da0224bf8a7246253ff8d7272"
    },
    "language_info": {
      "codemirror_mode": {
        "name": "ipython",
        "version": 3
      },
      "file_extension": ".py",
      "mimetype": "text/x-python",
      "name": "python",
      "nbconvert_exporter": "python",
      "pygments_lexer": "ipython3",
      "version": "3.8.1"
    }
  },
  "cells": [
    {
      "cell_type": "markdown",
      "metadata": {
        "colab_type": "text",
        "id": "xBq8uEszJkqw"
      },
      "source": [
        "# Python 101"
      ]
    },
    {
      "cell_type": "markdown",
      "metadata": {
        "colab_type": "text",
        "id": "HMUDlnzZJkqx"
      },
      "source": [
        "![image](https://media.geeksforgeeks.org/wp-content/uploads/20191023173512/Python-data-structure.jpg)\n",
        "\n",
        "credit: https://www.geeksforgeeks.org/"
      ]
    },
    {
      "cell_type": "markdown",
      "metadata": {
        "id": "4h6PVilfSOIk",
        "colab_type": "text"
      },
      "source": [
        "![mutable/immutable objects](https://miro.medium.com/max/1316/1*uFlTNY4W3czywyU18zxl8w.png)\n",
        "\n",
        "credit: https://medium.com/@meghamohan/mutable-and-immutable-side-of-python-c2145cf72747"
      ]
    },
    {
      "cell_type": "markdown",
      "metadata": {
        "colab_type": "text",
        "id": "WF0c72S0Jkqy"
      },
      "source": [
        "___\n",
        "## Karakter Dizileri ( Strings )"
      ]
    },
    {
      "cell_type": "code",
      "metadata": {
        "colab_type": "code",
        "id": "WK9Tyo8qJkqz",
        "outputId": "a1437bd1-12d6-41df-c0f0-49c9ae34b9a4",
        "colab": {
          "base_uri": "https://localhost:8080/",
          "height": 34
        }
      },
      "source": [
        "'c'"
      ],
      "execution_count": 0,
      "outputs": [
        {
          "output_type": "execute_result",
          "data": {
            "text/plain": [
              "'c'"
            ]
          },
          "metadata": {
            "tags": []
          },
          "execution_count": 1
        }
      ]
    },
    {
      "cell_type": "code",
      "metadata": {
        "colab_type": "code",
        "id": "2u69GOy6Jkq5",
        "outputId": "ee4d6c2e-9d87-4d0d-ba51-3607db538e15",
        "colab": {
          "base_uri": "https://localhost:8080/",
          "height": 34
        }
      },
      "source": [
        "' '\n",
        "\n",
        "\" \"\n",
        "\n",
        "\"\"\" \"\"\""
      ],
      "execution_count": 0,
      "outputs": [
        {
          "output_type": "execute_result",
          "data": {
            "text/plain": [
              "' '"
            ]
          },
          "metadata": {
            "tags": []
          },
          "execution_count": 2
        }
      ]
    },
    {
      "cell_type": "code",
      "metadata": {
        "colab_type": "code",
        "id": "bB2TZmfXJkq7",
        "outputId": "ee99480a-19e8-4af7-9d17-4af1f8cbd004",
        "colab": {
          "base_uri": "https://localhost:8080/",
          "height": 34
        }
      },
      "source": [
        "\"Hello World\""
      ],
      "execution_count": 0,
      "outputs": [
        {
          "output_type": "execute_result",
          "data": {
            "text/plain": [
              "'Hello World'"
            ]
          },
          "metadata": {
            "tags": []
          },
          "execution_count": 3
        }
      ]
    },
    {
      "cell_type": "code",
      "metadata": {
        "colab_type": "code",
        "id": "2x4g3wh6Jkq9",
        "outputId": "1ee7e887-4c74-4d5b-ace0-eb59f4315bc9",
        "colab": {
          "base_uri": "https://localhost:8080/",
          "height": 34
        }
      },
      "source": [
        "\"\"\"\n",
        "Lorem \n",
        "ipsum\n",
        "\"\"\""
      ],
      "execution_count": 0,
      "outputs": [
        {
          "output_type": "execute_result",
          "data": {
            "text/plain": [
              "'\\nLorem \\nipsum\\n'"
            ]
          },
          "metadata": {
            "tags": []
          },
          "execution_count": 4
        }
      ]
    },
    {
      "cell_type": "code",
      "metadata": {
        "colab_type": "code",
        "id": "aYSkdveQJkq_",
        "outputId": "2a6143a6-0ba9-4980-c218-fa7840387f7d",
        "colab": {
          "base_uri": "https://localhost:8080/",
          "height": 34
        }
      },
      "source": [
        "type('Lorem ipsum')"
      ],
      "execution_count": 0,
      "outputs": [
        {
          "output_type": "execute_result",
          "data": {
            "text/plain": [
              "str"
            ]
          },
          "metadata": {
            "tags": []
          },
          "execution_count": 5
        }
      ]
    },
    {
      "cell_type": "code",
      "metadata": {
        "colab_type": "code",
        "id": "f3hIC_cTJkrB",
        "outputId": "389f434b-eea6-408c-9c31-a7e46432ee5b",
        "colab": {
          "base_uri": "https://localhost:8080/",
          "height": 34
        }
      },
      "source": [
        "\"Lorem\" +  \" \" + \"ipsum\""
      ],
      "execution_count": 0,
      "outputs": [
        {
          "output_type": "execute_result",
          "data": {
            "text/plain": [
              "'Lorem ipsum'"
            ]
          },
          "metadata": {
            "tags": []
          },
          "execution_count": 6
        }
      ]
    },
    {
      "cell_type": "code",
      "metadata": {
        "colab_type": "code",
        "id": "wFsjpwIsJkrE",
        "outputId": "6cb3b333-e65a-4593-bf09-0b408bd4d141",
        "colab": {
          "base_uri": "https://localhost:8080/",
          "height": 34
        }
      },
      "source": [
        "\"Python\" \" \" \"bir\" \" \" \"proglama\" \" \" \"dilidir.\""
      ],
      "execution_count": 0,
      "outputs": [
        {
          "output_type": "execute_result",
          "data": {
            "text/plain": [
              "'Python bir proglama dilidir.'"
            ]
          },
          "metadata": {
            "tags": []
          },
          "execution_count": 7
        }
      ]
    },
    {
      "cell_type": "markdown",
      "metadata": {
        "colab_type": "text",
        "id": "vQse1DFIJkrI"
      },
      "source": [
        "___\n",
        "## Sayılar ( Numbers )"
      ]
    },
    {
      "cell_type": "code",
      "metadata": {
        "colab_type": "code",
        "id": "vHy6mIU1JkrI",
        "outputId": "f105f479-72b7-4d1c-95a0-fd494c1bb49a",
        "colab": {
          "base_uri": "https://localhost:8080/",
          "height": 34
        }
      },
      "source": [
        "type(123)"
      ],
      "execution_count": 0,
      "outputs": [
        {
          "output_type": "execute_result",
          "data": {
            "text/plain": [
              "int"
            ]
          },
          "metadata": {
            "tags": []
          },
          "execution_count": 8
        }
      ]
    },
    {
      "cell_type": "code",
      "metadata": {
        "colab_type": "code",
        "id": "quas3r0gJkrK",
        "outputId": "99b50626-8502-48e5-a859-cef24ce0711f",
        "colab": {
          "base_uri": "https://localhost:8080/",
          "height": 34
        }
      },
      "source": [
        "type(22.3)"
      ],
      "execution_count": 0,
      "outputs": [
        {
          "output_type": "execute_result",
          "data": {
            "text/plain": [
              "float"
            ]
          },
          "metadata": {
            "tags": []
          },
          "execution_count": 9
        }
      ]
    },
    {
      "cell_type": "code",
      "metadata": {
        "colab_type": "code",
        "id": "Ah4oWZ2QJkrM",
        "outputId": "5caade6b-8833-4983-9264-c723747d48f3",
        "colab": {
          "base_uri": "https://localhost:8080/",
          "height": 34
        }
      },
      "source": [
        "type(7+2j)"
      ],
      "execution_count": 0,
      "outputs": [
        {
          "output_type": "execute_result",
          "data": {
            "text/plain": [
              "complex"
            ]
          },
          "metadata": {
            "tags": []
          },
          "execution_count": 10
        }
      ]
    },
    {
      "cell_type": "markdown",
      "metadata": {
        "colab_type": "text",
        "id": "LC5-o1chJkrO"
      },
      "source": [
        "___\n",
        "## Aritmetik Oparatörler ( Arithmetic Operators )"
      ]
    },
    {
      "cell_type": "code",
      "metadata": {
        "colab_type": "code",
        "id": "ECFbr1XuJkrO",
        "outputId": "c78a5c33-c4af-477a-cb39-37895b2875c1",
        "colab": {
          "base_uri": "https://localhost:8080/",
          "height": 34
        }
      },
      "source": [
        "100 - 55"
      ],
      "execution_count": 0,
      "outputs": [
        {
          "output_type": "execute_result",
          "data": {
            "text/plain": [
              "45"
            ]
          },
          "metadata": {
            "tags": []
          },
          "execution_count": 11
        }
      ]
    },
    {
      "cell_type": "code",
      "metadata": {
        "colab_type": "code",
        "id": "wZsYupFqJkrQ",
        "outputId": "5b337198-32e1-4dc9-df96-23344e8487bf",
        "colab": {
          "base_uri": "https://localhost:8080/",
          "height": 34
        }
      },
      "source": [
        "4.5 - 1.2"
      ],
      "execution_count": 0,
      "outputs": [
        {
          "output_type": "execute_result",
          "data": {
            "text/plain": [
              "3.3"
            ]
          },
          "metadata": {
            "tags": []
          },
          "execution_count": 12
        }
      ]
    },
    {
      "cell_type": "code",
      "metadata": {
        "colab_type": "code",
        "id": "gKx04jX5JkrS",
        "outputId": "fe45c224-90e3-4a55-8eee-d8047dbe1a27",
        "colab": {
          "base_uri": "https://localhost:8080/",
          "height": 34
        }
      },
      "source": [
        "4.5 * 2"
      ],
      "execution_count": 0,
      "outputs": [
        {
          "output_type": "execute_result",
          "data": {
            "text/plain": [
              "9.0"
            ]
          },
          "metadata": {
            "tags": []
          },
          "execution_count": 13
        }
      ]
    },
    {
      "cell_type": "code",
      "metadata": {
        "colab_type": "code",
        "id": "3m1dbTPRJkrU",
        "outputId": "8f28bb2e-e9a2-4756-9692-c3e2b8d5b3b1",
        "colab": {
          "base_uri": "https://localhost:8080/",
          "height": 34
        }
      },
      "source": [
        "10 / 2"
      ],
      "execution_count": 0,
      "outputs": [
        {
          "output_type": "execute_result",
          "data": {
            "text/plain": [
              "5.0"
            ]
          },
          "metadata": {
            "tags": []
          },
          "execution_count": 14
        }
      ]
    },
    {
      "cell_type": "code",
      "metadata": {
        "colab_type": "code",
        "id": "GkaKS_zyJkrW",
        "outputId": "e91ed2c0-bf18-4d67-bec3-1f0f1e3cc24e",
        "colab": {
          "base_uri": "https://localhost:8080/",
          "height": 34
        }
      },
      "source": [
        "4**2"
      ],
      "execution_count": 0,
      "outputs": [
        {
          "output_type": "execute_result",
          "data": {
            "text/plain": [
              "16"
            ]
          },
          "metadata": {
            "tags": []
          },
          "execution_count": 15
        }
      ]
    },
    {
      "cell_type": "code",
      "metadata": {
        "colab_type": "code",
        "id": "x8nFQ7-2JkrY",
        "outputId": "6525dfc7-ded6-4f89-aa7f-cf8273a266c7",
        "colab": {
          "base_uri": "https://localhost:8080/",
          "height": 34
        }
      },
      "source": [
        "10 % 3"
      ],
      "execution_count": 0,
      "outputs": [
        {
          "output_type": "execute_result",
          "data": {
            "text/plain": [
              "1"
            ]
          },
          "metadata": {
            "tags": []
          },
          "execution_count": 16
        }
      ]
    },
    {
      "cell_type": "code",
      "metadata": {
        "colab_type": "code",
        "id": "GkuRzYdiJkra",
        "outputId": "c529d7c9-4fbf-4274-83bb-55a4cdb567f7",
        "colab": {
          "base_uri": "https://localhost:8080/",
          "height": 34
        }
      },
      "source": [
        "10 // 3"
      ],
      "execution_count": 0,
      "outputs": [
        {
          "output_type": "execute_result",
          "data": {
            "text/plain": [
              "3"
            ]
          },
          "metadata": {
            "tags": []
          },
          "execution_count": 17
        }
      ]
    },
    {
      "cell_type": "code",
      "metadata": {
        "colab_type": "code",
        "id": "HiVV2JdBJkrc",
        "outputId": "2375175a-6730-4aa0-f52e-16e1fb445f99",
        "colab": {
          "base_uri": "https://localhost:8080/",
          "height": 34
        }
      },
      "source": [
        "pow(5, 2)"
      ],
      "execution_count": 0,
      "outputs": [
        {
          "output_type": "execute_result",
          "data": {
            "text/plain": [
              "25"
            ]
          },
          "metadata": {
            "tags": []
          },
          "execution_count": 18
        }
      ]
    },
    {
      "cell_type": "code",
      "metadata": {
        "colab_type": "code",
        "id": "pvzE9wvCJkre",
        "outputId": "d1aa999e-f980-4190-e333-310bac00affc",
        "colab": {
          "base_uri": "https://localhost:8080/",
          "height": 34
        }
      },
      "source": [
        "type(2020)"
      ],
      "execution_count": 0,
      "outputs": [
        {
          "output_type": "execute_result",
          "data": {
            "text/plain": [
              "int"
            ]
          },
          "metadata": {
            "tags": []
          },
          "execution_count": 19
        }
      ]
    },
    {
      "cell_type": "code",
      "metadata": {
        "colab_type": "code",
        "id": "j2O1BKgfJkrG",
        "outputId": "560392e0-4d7c-4d8f-adbe-58ee2b51ecef",
        "colab": {
          "base_uri": "https://localhost:8080/",
          "height": 34
        }
      },
      "source": [
        "\"Python\"*2"
      ],
      "execution_count": 0,
      "outputs": [
        {
          "output_type": "execute_result",
          "data": {
            "text/plain": [
              "'PythonPython'"
            ]
          },
          "metadata": {
            "tags": []
          },
          "execution_count": 20
        }
      ]
    },
    {
      "cell_type": "markdown",
      "metadata": {
        "colab_type": "text",
        "id": "OS_gd-AjJkry"
      },
      "source": [
        "___\n",
        "## Değişkenler ( Variables )"
      ]
    },
    {
      "cell_type": "code",
      "metadata": {
        "colab_type": "code",
        "id": "NVU2uRsKJkry",
        "colab": {}
      },
      "source": [
        "değişken1 = 112\n",
        "değişken2 = 155"
      ],
      "execution_count": 0,
      "outputs": []
    },
    {
      "cell_type": "code",
      "metadata": {
        "colab_type": "code",
        "id": "YtzLclPYJkr0",
        "outputId": "d0e8c5e3-20ff-4969-da34-35d25b3025b1",
        "colab": {
          "base_uri": "https://localhost:8080/",
          "height": 34
        }
      },
      "source": [
        "değişken1"
      ],
      "execution_count": 0,
      "outputs": [
        {
          "output_type": "execute_result",
          "data": {
            "text/plain": [
              "112"
            ]
          },
          "metadata": {
            "tags": []
          },
          "execution_count": 23
        }
      ]
    },
    {
      "cell_type": "code",
      "metadata": {
        "colab_type": "code",
        "id": "S_l93AIwJkr2",
        "colab": {}
      },
      "source": [
        "değişken1, değişken2 = değişken2, değişken1"
      ],
      "execution_count": 0,
      "outputs": []
    },
    {
      "cell_type": "code",
      "metadata": {
        "colab_type": "code",
        "id": "rjy2dTpmJkr3",
        "outputId": "559b7012-ad90-427a-b79f-bc6b092821b0",
        "colab": {
          "base_uri": "https://localhost:8080/",
          "height": 34
        }
      },
      "source": [
        "değişken1"
      ],
      "execution_count": 0,
      "outputs": [
        {
          "output_type": "execute_result",
          "data": {
            "text/plain": [
              "155"
            ]
          },
          "metadata": {
            "tags": []
          },
          "execution_count": 25
        }
      ]
    },
    {
      "cell_type": "code",
      "metadata": {
        "colab_type": "code",
        "id": "blSdUaiwJkrh",
        "colab": {}
      },
      "source": [
        "saatlik_ücret = 10\n",
        "haftalık_çalışma_saati = 40"
      ],
      "execution_count": 0,
      "outputs": []
    },
    {
      "cell_type": "code",
      "metadata": {
        "colab_type": "code",
        "id": "w84b9N1iJkrj",
        "outputId": "bbf3b6ad-3a31-4c1e-cc01-178b66fe24a9",
        "colab": {
          "base_uri": "https://localhost:8080/",
          "height": 34
        }
      },
      "source": [
        "maaş = haftalık_çalışma_saati * saatlik_ücret\n",
        "maaş"
      ],
      "execution_count": 0,
      "outputs": [
        {
          "output_type": "execute_result",
          "data": {
            "text/plain": [
              "400"
            ]
          },
          "metadata": {
            "tags": []
          },
          "execution_count": 27
        }
      ]
    },
    {
      "cell_type": "code",
      "metadata": {
        "colab_type": "code",
        "id": "ipZ5R5XpJkrk",
        "colab": {}
      },
      "source": [
        "username = \"admin\""
      ],
      "execution_count": 0,
      "outputs": []
    },
    {
      "cell_type": "code",
      "metadata": {
        "colab_type": "code",
        "id": "RWhzoaoNJkrn",
        "colab": {}
      },
      "source": [
        "password = \"password\""
      ],
      "execution_count": 0,
      "outputs": []
    },
    {
      "cell_type": "code",
      "metadata": {
        "colab_type": "code",
        "id": "bJ-h6zLIJkrp",
        "outputId": "c0f489e9-43a3-459f-8731-5fb102f1fd71",
        "colab": {
          "base_uri": "https://localhost:8080/",
          "height": 34
        }
      },
      "source": [
        "len(username)"
      ],
      "execution_count": 0,
      "outputs": [
        {
          "output_type": "execute_result",
          "data": {
            "text/plain": [
              "5"
            ]
          },
          "metadata": {
            "tags": []
          },
          "execution_count": 30
        }
      ]
    },
    {
      "cell_type": "code",
      "metadata": {
        "colab_type": "code",
        "id": "bhiKQN4QJkrr",
        "outputId": "c9752446-11e4-40a1-993f-bcfdd8597381",
        "colab": {
          "base_uri": "https://localhost:8080/",
          "height": 34
        }
      },
      "source": [
        "len(username) + len(password)"
      ],
      "execution_count": 0,
      "outputs": [
        {
          "output_type": "execute_result",
          "data": {
            "text/plain": [
              "13"
            ]
          },
          "metadata": {
            "tags": []
          },
          "execution_count": 31
        }
      ]
    },
    {
      "cell_type": "code",
      "metadata": {
        "colab_type": "code",
        "id": "0h-Svli1Jkrt",
        "outputId": "9690edd2-ba05-499b-aea2-1becd60974fd",
        "colab": {
          "base_uri": "https://localhost:8080/",
          "height": 138
        }
      },
      "source": [
        "sayı = 5\n",
        "# 5\n",
        "\n",
        "sayı += 5\n",
        "print(sayı)\n",
        "# 10\n",
        "\n",
        "sayı -= 5\n",
        "print(sayı)\n",
        "# 5\n",
        "\n",
        "sayı *= 5\n",
        "print(sayı)\n",
        "# 25\n",
        "\n",
        "sayı /= 5\n",
        "print(sayı)\n",
        "# 5.0\n",
        "\n",
        "sayı **= 2\n",
        "print(sayı)\n",
        "# 25.0\n",
        "\n",
        "sayı //= 4\n",
        "print(sayı)\n",
        "# 6.0\n",
        "\n",
        "sayı %= 5\n",
        "print(sayı)\n",
        "# 1.0"
      ],
      "execution_count": 0,
      "outputs": [
        {
          "output_type": "stream",
          "text": [
            "10\n",
            "5\n",
            "25\n",
            "5.0\n",
            "25.0\n",
            "6.0\n",
            "1.0\n"
          ],
          "name": "stdout"
        }
      ]
    },
    {
      "cell_type": "code",
      "metadata": {
        "colab_type": "code",
        "id": "XZ3euUGuJkru",
        "outputId": "5ed220ad-bec3-479f-ebb6-c6783c7f9e9f",
        "colab": {
          "base_uri": "https://localhost:8080/",
          "height": 585
        }
      },
      "source": [
        "#anahtar kelimeler\n",
        "import keyword\n",
        "keyword.kwlist"
      ],
      "execution_count": 0,
      "outputs": [
        {
          "output_type": "execute_result",
          "data": {
            "text/plain": [
              "['False',\n",
              " 'None',\n",
              " 'True',\n",
              " 'and',\n",
              " 'as',\n",
              " 'assert',\n",
              " 'break',\n",
              " 'class',\n",
              " 'continue',\n",
              " 'def',\n",
              " 'del',\n",
              " 'elif',\n",
              " 'else',\n",
              " 'except',\n",
              " 'finally',\n",
              " 'for',\n",
              " 'from',\n",
              " 'global',\n",
              " 'if',\n",
              " 'import',\n",
              " 'in',\n",
              " 'is',\n",
              " 'lambda',\n",
              " 'nonlocal',\n",
              " 'not',\n",
              " 'or',\n",
              " 'pass',\n",
              " 'raise',\n",
              " 'return',\n",
              " 'try',\n",
              " 'while',\n",
              " 'with',\n",
              " 'yield']"
            ]
          },
          "metadata": {
            "tags": []
          },
          "execution_count": 33
        }
      ]
    },
    {
      "cell_type": "code",
      "metadata": {
        "colab_type": "code",
        "id": "n-5-YeXNJkrw",
        "colab": {}
      },
      "source": [
        "del maaş"
      ],
      "execution_count": 0,
      "outputs": []
    },
    {
      "cell_type": "markdown",
      "metadata": {
        "colab_type": "text",
        "id": "oXefclbtJkr5"
      },
      "source": [
        "___\n",
        "## Print Fonksiyonu"
      ]
    },
    {
      "cell_type": "code",
      "metadata": {
        "id": "oUrCkXDoSOKV",
        "colab_type": "code",
        "outputId": "94fc39a4-e2b0-4767-ffcb-b67ca73d7f7e",
        "colab": {
          "base_uri": "https://localhost:8080/",
          "height": 34
        }
      },
      "source": [
        "print(\"Hello World\")"
      ],
      "execution_count": 0,
      "outputs": [
        {
          "output_type": "stream",
          "text": [
            "Hello World\n"
          ],
          "name": "stdout"
        }
      ]
    },
    {
      "cell_type": "code",
      "metadata": {
        "colab_type": "code",
        "id": "zMyB-Ss8Jkr5",
        "outputId": "d6016f5c-b798-412b-db83-2fd1a95c62ef",
        "colab": {
          "base_uri": "https://localhost:8080/",
          "height": 34
        }
      },
      "source": [
        "print(\"Lorem\", \"Ipsum\", \"is\", \"simply\", \"dummy\", \"text\")"
      ],
      "execution_count": 0,
      "outputs": [
        {
          "output_type": "stream",
          "text": [
            "Lorem Ipsum is simply dummy text\n"
          ],
          "name": "stdout"
        }
      ]
    },
    {
      "cell_type": "code",
      "metadata": {
        "colab_type": "code",
        "id": "WjIT8y4NJkr7",
        "outputId": "5e744861-5719-45b5-d14f-dfb5aa58ef8b",
        "colab": {
          "base_uri": "https://localhost:8080/",
          "height": 34
        }
      },
      "source": [
        "print(\"Lorem Ipsum is simply dummy text\", sep=\" \", end=\"\\n\")"
      ],
      "execution_count": 0,
      "outputs": [
        {
          "output_type": "stream",
          "text": [
            "Lorem Ipsum is simply dummy text\n"
          ],
          "name": "stdout"
        }
      ]
    },
    {
      "cell_type": "code",
      "metadata": {
        "colab_type": "code",
        "id": "zzrxTH1xJkr9",
        "outputId": "b501a2e3-bd40-4f65-de14-e0fbbb9a9526",
        "colab": {
          "base_uri": "https://localhost:8080/",
          "height": 34
        }
      },
      "source": [
        "print(\"Lorem\", \"Ipsum\", \"is\", \"simply\", \"dummy\", \"text\", sep=\"-\", end=\"\\n\")"
      ],
      "execution_count": 0,
      "outputs": [
        {
          "output_type": "stream",
          "text": [
            "Lorem-Ipsum-is-simply-dummy-text\n"
          ],
          "name": "stdout"
        }
      ]
    },
    {
      "cell_type": "code",
      "metadata": {
        "colab_type": "code",
        "id": "PXC2avEeJkr-",
        "outputId": "d268aa16-8d08-4ee5-8024-adf06b36e47c",
        "colab": {
          "base_uri": "https://localhost:8080/",
          "height": 34
        }
      },
      "source": [
        "print(\"Lorem\", \"Ipsum\", \"is\", \"simply\", \"dummy\", \"text\", sep=\"-py-\", end=\"!!\")"
      ],
      "execution_count": 0,
      "outputs": [
        {
          "output_type": "stream",
          "text": [
            "Lorem-py-Ipsum-py-is-py-simply-py-dummy-py-text!!"
          ],
          "name": "stdout"
        }
      ]
    },
    {
      "cell_type": "code",
      "metadata": {
        "colab_type": "code",
        "id": "ReIClT58JksB",
        "outputId": "8a4fc336-e28b-4c0f-ca43-50eaeb50c448",
        "colab": {
          "base_uri": "https://localhost:8080/",
          "height": 34
        }
      },
      "source": [
        "print(*\"Lorem ipsum\", sep=\"-\")"
      ],
      "execution_count": 0,
      "outputs": [
        {
          "output_type": "stream",
          "text": [
            "L-o-r-e-m- -i-p-s-u-m\n"
          ],
          "name": "stdout"
        }
      ]
    },
    {
      "cell_type": "code",
      "metadata": {
        "colab_type": "code",
        "id": "1bWuHVxxJksD",
        "outputId": "c0545bca-59ff-4523-e933-256b852dcd72",
        "colab": {
          "base_uri": "https://localhost:8080/",
          "height": 34
        }
      },
      "source": [
        "print(\"Ölü\", \"Ozanlar\", \"Derneği\", 1989)"
      ],
      "execution_count": 0,
      "outputs": [
        {
          "output_type": "stream",
          "text": [
            "Ölü Ozanlar Derneği 1989\n"
          ],
          "name": "stdout"
        }
      ]
    },
    {
      "cell_type": "code",
      "metadata": {
        "colab_type": "code",
        "id": "W2Qxkm6DJksF",
        "outputId": "9fcb3ec0-c735-40d8-bfe5-88f347743979",
        "colab": {
          "base_uri": "https://localhost:8080/",
          "height": 54
        }
      },
      "source": [
        "print(\"Python is an interpreted, high-level, general-purpose programming language. Created by Guido van Rossum and first released in 1991, Python has a design philosophy that emphasizes code readability, notably using significant whitespace. It provides constructs that enable clear programming on both small and large scales. \")"
      ],
      "execution_count": 0,
      "outputs": [
        {
          "output_type": "stream",
          "text": [
            "Python is an interpreted, high-level, general-purpose programming language. Created by Guido van Rossum and first released in 1991, Python has a design philosophy that emphasizes code readability, notably using significant whitespace. It provides constructs that enable clear programming on both small and large scales. \n"
          ],
          "name": "stdout"
        }
      ]
    },
    {
      "cell_type": "code",
      "metadata": {
        "colab_type": "code",
        "id": "4O1dUaSLJksH",
        "outputId": "261c4327-67e6-4981-88cc-90d13245aa00",
        "colab": {
          "base_uri": "https://localhost:8080/",
          "height": 130
        }
      },
      "source": [
        "print(\"Ölü \n",
        "      Ozanlar \n",
        "      Derneği\")"
      ],
      "execution_count": 0,
      "outputs": [
        {
          "output_type": "error",
          "ename": "SyntaxError",
          "evalue": "ignored",
          "traceback": [
            "\u001b[0;36m  File \u001b[0;32m\"<ipython-input-44-87d73e5ebdc7>\"\u001b[0;36m, line \u001b[0;32m1\u001b[0m\n\u001b[0;31m    print(\"Ölü\u001b[0m\n\u001b[0m               ^\u001b[0m\n\u001b[0;31mSyntaxError\u001b[0m\u001b[0;31m:\u001b[0m EOL while scanning string literal\n"
          ]
        }
      ]
    },
    {
      "cell_type": "code",
      "metadata": {
        "colab_type": "code",
        "id": "Whp0QyTfJksJ",
        "outputId": "8e362727-3b81-49a2-dfeb-0a4a5cda2786",
        "colab": {
          "base_uri": "https://localhost:8080/",
          "height": 69
        }
      },
      "source": [
        "print(\"\"\"Ölü \n",
        "Ozanlar \n",
        "Derneği\"\"\")"
      ],
      "execution_count": 0,
      "outputs": [
        {
          "output_type": "stream",
          "text": [
            "Ölü \n",
            "Ozanlar \n",
            "Derneği\n"
          ],
          "name": "stdout"
        }
      ]
    },
    {
      "cell_type": "code",
      "metadata": {
        "colab_type": "code",
        "id": "c0pdZlIWJksM",
        "outputId": "17a40c51-28f8-4591-871c-3aef8d801299",
        "colab": {
          "base_uri": "https://localhost:8080/",
          "height": 34
        }
      },
      "source": [
        "print(\"\\\"Dünya Güneş Venüs Mars\\\"\")"
      ],
      "execution_count": 0,
      "outputs": [
        {
          "output_type": "stream",
          "text": [
            "\"Dünya Güneş Venüs Mars\"\n"
          ],
          "name": "stdout"
        }
      ]
    },
    {
      "cell_type": "code",
      "metadata": {
        "colab_type": "code",
        "id": "n1ItmqInJksO",
        "outputId": "5b9fc1f6-f921-48c7-afa1-13962e28b6aa",
        "colab": {
          "base_uri": "https://localhost:8080/",
          "height": 34
        }
      },
      "source": [
        "print(\"Gül sokak 10\\\\7 Merkez\\\\Niğde\")"
      ],
      "execution_count": 0,
      "outputs": [
        {
          "output_type": "stream",
          "text": [
            "Gül sokak 10\\7 Merkez\\Niğde\n"
          ],
          "name": "stdout"
        }
      ]
    },
    {
      "cell_type": "code",
      "metadata": {
        "colab_type": "code",
        "id": "VvH7DFFsJksP",
        "outputId": "65b69073-c769-4e0d-bbb0-50907aa705fc",
        "colab": {
          "base_uri": "https://localhost:8080/",
          "height": 34
        }
      },
      "source": [
        "print(\"Eski Satırbaşı\\rYeni\")"
      ],
      "execution_count": 0,
      "outputs": [
        {
          "output_type": "stream",
          "text": [
            "Eski Satırbaşı\rYeni\n"
          ],
          "name": "stdout"
        }
      ]
    },
    {
      "cell_type": "code",
      "metadata": {
        "colab_type": "code",
        "id": "Kcdy2EF8JksQ",
        "outputId": "165b5553-3f08-46f2-9e27-0f0f9441b04a",
        "colab": {
          "base_uri": "https://localhost:8080/",
          "height": 34
        }
      },
      "source": [
        "print(\"Birkaç boşluk\\taralık\")"
      ],
      "execution_count": 0,
      "outputs": [
        {
          "output_type": "stream",
          "text": [
            "Birkaç boşluk\taralık\n"
          ],
          "name": "stdout"
        }
      ]
    },
    {
      "cell_type": "code",
      "metadata": {
        "id": "0fe3ZeEZSOK3",
        "colab_type": "code",
        "outputId": "43b0c137-7625-4510-9222-aa73d591307c",
        "colab": {
          "base_uri": "https://localhost:8080/",
          "height": 34
        }
      },
      "source": [
        "print(r\"\\nMerhaba\\tDünya\\r\\\\\")"
      ],
      "execution_count": 0,
      "outputs": [
        {
          "output_type": "stream",
          "text": [
            "\\nMerhaba\\tDünya\\r\\\\\n"
          ],
          "name": "stdout"
        }
      ]
    },
    {
      "cell_type": "markdown",
      "metadata": {
        "colab_type": "text",
        "id": "3B7tlffyJksS"
      },
      "source": [
        "___\n",
        "## Kullanıcıdan Veri Almak ( input() )"
      ]
    },
    {
      "cell_type": "code",
      "metadata": {
        "colab_type": "code",
        "id": "dkLi7oGXJksS",
        "outputId": "991e9c0f-d373-4b99-ce96-729d355bdfee",
        "colab": {
          "base_uri": "https://localhost:8080/",
          "height": 69
        }
      },
      "source": [
        "isim = input(\"İsminiz: \")\n",
        "yaş = input(\"Yaşınız: \")\n",
        "print(isim, yaş)"
      ],
      "execution_count": 0,
      "outputs": [
        {
          "output_type": "stream",
          "text": [
            "İsminiz: Sevdanur\n",
            "Yaşınız: 37\n",
            "Sevdanur 37\n"
          ],
          "name": "stdout"
        }
      ]
    },
    {
      "cell_type": "code",
      "metadata": {
        "colab_type": "code",
        "id": "rn36GmZeJksT",
        "outputId": "4d8dd1ee-e560-42bc-9ec2-92c9c4ac75a7",
        "colab": {
          "base_uri": "https://localhost:8080/",
          "height": 165
        }
      },
      "source": [
        "yaş + 10"
      ],
      "execution_count": 0,
      "outputs": [
        {
          "output_type": "error",
          "ename": "TypeError",
          "evalue": "ignored",
          "traceback": [
            "\u001b[0;31m---------------------------------------------------------------------------\u001b[0m",
            "\u001b[0;31mTypeError\u001b[0m                                 Traceback (most recent call last)",
            "\u001b[0;32m<ipython-input-52-140bed50b6ad>\u001b[0m in \u001b[0;36m<module>\u001b[0;34m()\u001b[0m\n\u001b[0;32m----> 1\u001b[0;31m \u001b[0myaş\u001b[0m \u001b[0;34m+\u001b[0m \u001b[0;36m10\u001b[0m\u001b[0;34m\u001b[0m\u001b[0;34m\u001b[0m\u001b[0m\n\u001b[0m",
            "\u001b[0;31mTypeError\u001b[0m: must be str, not int"
          ]
        }
      ]
    },
    {
      "cell_type": "code",
      "metadata": {
        "colab_type": "code",
        "id": "khSPjLXwJksV",
        "outputId": "24005767-0b74-4e66-c040-cd7903baee40",
        "colab": {
          "base_uri": "https://localhost:8080/",
          "height": 34
        }
      },
      "source": [
        "type(yaş)"
      ],
      "execution_count": 0,
      "outputs": [
        {
          "output_type": "execute_result",
          "data": {
            "text/plain": [
              "str"
            ]
          },
          "metadata": {
            "tags": []
          },
          "execution_count": 53
        }
      ]
    },
    {
      "cell_type": "markdown",
      "metadata": {
        "colab_type": "text",
        "id": "mq-btx0zJksY"
      },
      "source": [
        "___\n",
        "## Tip Dönüşümleri ( Type Casting )"
      ]
    },
    {
      "cell_type": "code",
      "metadata": {
        "colab_type": "code",
        "id": "pl9GcoiSJksY",
        "outputId": "9b6287c8-4b8e-40ce-be7c-f98afc0b54f9",
        "colab": {
          "base_uri": "https://localhost:8080/",
          "height": 51
        }
      },
      "source": [
        "yaş = int(yaş) + 10\n",
        "print(yaş)\n",
        "print(type(yaş))"
      ],
      "execution_count": 0,
      "outputs": [
        {
          "output_type": "stream",
          "text": [
            "47\n",
            "<class 'int'>\n"
          ],
          "name": "stdout"
        }
      ]
    },
    {
      "cell_type": "code",
      "metadata": {
        "colab_type": "code",
        "id": "GT0_jzMIJksb",
        "outputId": "b718e165-244c-4166-bc25-188e095f6162",
        "colab": {
          "base_uri": "https://localhost:8080/",
          "height": 51
        }
      },
      "source": [
        "yaş = float(yaş) + 5.5\n",
        "print(yaş)\n",
        "print(type(yaş))"
      ],
      "execution_count": 0,
      "outputs": [
        {
          "output_type": "stream",
          "text": [
            "52.5\n",
            "<class 'float'>\n"
          ],
          "name": "stdout"
        }
      ]
    },
    {
      "cell_type": "code",
      "metadata": {
        "colab_type": "code",
        "id": "tM7yyV_pJksd",
        "outputId": "c870b92e-c498-4cb2-902d-cc8d3b88238c",
        "colab": {
          "base_uri": "https://localhost:8080/",
          "height": 34
        }
      },
      "source": [
        "print(isim + \" \" + str(yaş) + \" yaşında!\")"
      ],
      "execution_count": 0,
      "outputs": [
        {
          "output_type": "stream",
          "text": [
            "Sevdanur 52.5 yaşında!\n"
          ],
          "name": "stdout"
        }
      ]
    },
    {
      "cell_type": "code",
      "metadata": {
        "colab_type": "code",
        "id": "A968qrVFJksf",
        "outputId": "197fc6bc-55ff-4b2d-ee62-8f8478cc848e",
        "colab": {
          "base_uri": "https://localhost:8080/",
          "height": 86
        }
      },
      "source": [
        "print(\"Üs hesaplamak için\")\n",
        "sayı1 = int(input(\"Taban sayıyı girin: \"))\n",
        "sayı2 = int(input(\"Üs sayıyı girin: \"))\n",
        "print(sayı1, \"**\", sayı2, \"=\", pow(sayı1,sayı2))"
      ],
      "execution_count": 0,
      "outputs": [
        {
          "output_type": "stream",
          "text": [
            "Üs hesaplamak için\n",
            "Taban sayıyı girin: 5\n",
            "Üs sayıyı girin: 3\n",
            "5 ** 3 = 125\n"
          ],
          "name": "stdout"
        }
      ]
    },
    {
      "cell_type": "markdown",
      "metadata": {
        "id": "AxOX5kRvSOLM",
        "colab_type": "text"
      },
      "source": [
        "___\n",
        "## Karakter Dizisi Biçimlendirme ( String Formatting )"
      ]
    },
    {
      "cell_type": "code",
      "metadata": {
        "colab_type": "code",
        "id": "xLAdbedkJksh",
        "outputId": "3be6007b-93bd-424a-81d2-e8531bbe9b4d",
        "colab": {
          "base_uri": "https://localhost:8080/",
          "height": 34
        }
      },
      "source": [
        "print(\"Selam, benim adım {0} ve {1} yaşındayım!\".format(isim, 33))"
      ],
      "execution_count": 0,
      "outputs": [
        {
          "output_type": "stream",
          "text": [
            "Selam, benim adım Sevdanur ve 33 yaşındayım!\n"
          ],
          "name": "stdout"
        }
      ]
    },
    {
      "cell_type": "code",
      "metadata": {
        "colab_type": "code",
        "id": "TQgVS2PPJksi",
        "outputId": "9f8ea388-fb6b-4d88-e9c3-e1f4517ed217",
        "colab": {
          "base_uri": "https://localhost:8080/",
          "height": 34
        }
      },
      "source": [
        "print(f\"Selam, benim adım {'John Doe'} ve {yaş} yaşındayım!\")"
      ],
      "execution_count": 0,
      "outputs": [
        {
          "output_type": "stream",
          "text": [
            "Selam, benim adım John Doe ve 52.5 yaşındayım!\n"
          ],
          "name": "stdout"
        }
      ]
    },
    {
      "cell_type": "markdown",
      "metadata": {
        "colab_type": "text",
        "id": "rInHfh0wJksj"
      },
      "source": [
        "___\n",
        "## Koşullu Durumlar ( Condition Statements )"
      ]
    },
    {
      "cell_type": "code",
      "metadata": {
        "colab_type": "code",
        "id": "AKf1VB6EJksk",
        "scrolled": true,
        "outputId": "50c88451-3e8a-4227-92f6-15e4bdf4cd44",
        "colab": {
          "base_uri": "https://localhost:8080/",
          "height": 34
        }
      },
      "source": [
        "bool(1)"
      ],
      "execution_count": 0,
      "outputs": [
        {
          "output_type": "execute_result",
          "data": {
            "text/plain": [
              "True"
            ]
          },
          "metadata": {
            "tags": []
          },
          "execution_count": 61
        }
      ]
    },
    {
      "cell_type": "code",
      "metadata": {
        "id": "o9xxWyBySOLS",
        "colab_type": "code",
        "outputId": "73823670-294d-46f9-ed76-24c480a11704",
        "colab": {
          "base_uri": "https://localhost:8080/",
          "height": 34
        }
      },
      "source": [
        "bool(0)"
      ],
      "execution_count": 0,
      "outputs": [
        {
          "output_type": "execute_result",
          "data": {
            "text/plain": [
              "False"
            ]
          },
          "metadata": {
            "tags": []
          },
          "execution_count": 62
        }
      ]
    },
    {
      "cell_type": "code",
      "metadata": {
        "colab_type": "code",
        "id": "jFCUE4R0Jksm",
        "outputId": "c66faaa1-f479-43a6-881d-43e6440abcef",
        "colab": {
          "base_uri": "https://localhost:8080/",
          "height": 34
        }
      },
      "source": [
        "bool(\"\")"
      ],
      "execution_count": 0,
      "outputs": [
        {
          "output_type": "execute_result",
          "data": {
            "text/plain": [
              "False"
            ]
          },
          "metadata": {
            "tags": []
          },
          "execution_count": 63
        }
      ]
    },
    {
      "cell_type": "code",
      "metadata": {
        "colab_type": "code",
        "id": "8LiNhp5DJksn",
        "outputId": "816b9dfb-01c5-4f5f-c198-65c922063dc2",
        "colab": {
          "base_uri": "https://localhost:8080/",
          "height": 34
        }
      },
      "source": [
        "bool(\"Lorem ipsum\")"
      ],
      "execution_count": 0,
      "outputs": [
        {
          "output_type": "execute_result",
          "data": {
            "text/plain": [
              "True"
            ]
          },
          "metadata": {
            "tags": []
          },
          "execution_count": 64
        }
      ]
    },
    {
      "cell_type": "code",
      "metadata": {
        "colab_type": "code",
        "id": "-LXjzNywJksp",
        "outputId": "f5cfa664-f1fc-4030-8278-c71399cfc8e2",
        "colab": {
          "base_uri": "https://localhost:8080/",
          "height": 34
        }
      },
      "source": [
        "bool(1234)"
      ],
      "execution_count": 0,
      "outputs": [
        {
          "output_type": "execute_result",
          "data": {
            "text/plain": [
              "True"
            ]
          },
          "metadata": {
            "tags": []
          },
          "execution_count": 65
        }
      ]
    },
    {
      "cell_type": "markdown",
      "metadata": {
        "colab_type": "text",
        "id": "mxpEep9qJksq"
      },
      "source": [
        "```\n",
        "==   Eşittir\n",
        "!=   Eşit Değildir\n",
        ">    Büyüktür\n",
        "<    Küçüktür\n",
        ">=   Büyük Eşittir\n",
        "<=   Küçük Eşittir\n",
        "```"
      ]
    },
    {
      "cell_type": "code",
      "metadata": {
        "colab_type": "code",
        "id": "sYyNRA_kJksr",
        "outputId": "fafd531d-3b86-4e5f-ebca-ff0ea489e31c",
        "colab": {
          "base_uri": "https://localhost:8080/",
          "height": 86
        }
      },
      "source": [
        "print(\"(50 > 30) :\", (50 > 30))\n",
        "print(\"(20 > 30) :\", (20 > 30))\n",
        "print(\"(50 > 30) and (20 > 30) :\", (50 > 30) and (20 > 30))\n",
        "print(\"(50 > 30) or (20 > 30) :\", (50 > 30) or (20 > 30))"
      ],
      "execution_count": 0,
      "outputs": [
        {
          "output_type": "stream",
          "text": [
            "(50 > 30) : True\n",
            "(20 > 30) : False\n",
            "(50 > 30) and (20 > 30) : False\n",
            "(50 > 30) or (20 > 30) : True\n"
          ],
          "name": "stdout"
        }
      ]
    },
    {
      "cell_type": "code",
      "metadata": {
        "colab_type": "code",
        "id": "zsJgyfC0Jkss",
        "outputId": "c8846ab3-8db9-4054-fc01-7e088c6d1dc0",
        "colab": {
          "base_uri": "https://localhost:8080/",
          "height": 34
        }
      },
      "source": [
        "print(True and False)"
      ],
      "execution_count": 0,
      "outputs": [
        {
          "output_type": "stream",
          "text": [
            "False\n"
          ],
          "name": "stdout"
        }
      ]
    },
    {
      "cell_type": "code",
      "metadata": {
        "colab_type": "code",
        "id": "FMVLr_PWJkst",
        "outputId": "45d4a4e7-e926-4e7e-9539-6a3eba4e0ebe",
        "colab": {
          "base_uri": "https://localhost:8080/",
          "height": 34
        }
      },
      "source": [
        "print(True and True)"
      ],
      "execution_count": 0,
      "outputs": [
        {
          "output_type": "stream",
          "text": [
            "True\n"
          ],
          "name": "stdout"
        }
      ]
    },
    {
      "cell_type": "code",
      "metadata": {
        "colab_type": "code",
        "id": "AOgWL1PUJksu",
        "outputId": "62ab29a5-4801-422f-85a0-21284081a514",
        "colab": {
          "base_uri": "https://localhost:8080/",
          "height": 34
        }
      },
      "source": [
        "print(not True)"
      ],
      "execution_count": 0,
      "outputs": [
        {
          "output_type": "stream",
          "text": [
            "False\n"
          ],
          "name": "stdout"
        }
      ]
    },
    {
      "cell_type": "code",
      "metadata": {
        "colab_type": "code",
        "id": "MFQ3lI0ZJksv",
        "outputId": "3f543d62-1f1e-453e-f7ad-c2f3d0ca72b3",
        "colab": {
          "base_uri": "https://localhost:8080/",
          "height": 51
        }
      },
      "source": [
        "a = int(input(\"Sayı giriniz:\"))\n",
        "\n",
        "if a < 10:\n",
        "    print(\"10'dan küçük!\")\n",
        "elif a < 15:\n",
        "    print(\"15'ten küçük!\")\n",
        "elif a <= 25:\n",
        "    print(\"25'ten küçük veya 25'e eşit!\")\n",
        "else:\n",
        "    print(\"25'ten büyük!\")"
      ],
      "execution_count": 0,
      "outputs": [
        {
          "output_type": "stream",
          "text": [
            "Sayı giriniz:5\n",
            "10'dan küçük!\n"
          ],
          "name": "stdout"
        }
      ]
    },
    {
      "cell_type": "code",
      "metadata": {
        "colab_type": "code",
        "id": "cqrX-afxJksx",
        "outputId": "0691443a-85bf-4477-9877-38cd4e9dc6ee",
        "colab": {
          "base_uri": "https://localhost:8080/",
          "height": 69
        }
      },
      "source": [
        "gerçek_kullanıcı = \"test\"\n",
        "gerçek_şifre = \"test\"\n",
        "\n",
        "sorulan_kullanıcı = input(\"Kullanıcı adınız:\")\n",
        "sorulan_şifre = input(\"Şifreniz:\")\n",
        "\n",
        "if gerçek_şifre == sorulan_şifre and gerçek_kullanıcı == sorulan_kullanıcı:\n",
        "    print(\"Giriş başarılı!\")\n",
        "elif not sorulan_kullanıcı:\n",
        "    print(\"Kullanıcı adı alanı boş olamaz!\")\n",
        "elif not sorulan_şifre:\n",
        "    print(\"Şifre alanı boş olamaz!\")\n",
        "else:\n",
        "    print(\"Kullanıcı adı veya şifre yanlış!\")"
      ],
      "execution_count": 0,
      "outputs": [
        {
          "output_type": "stream",
          "text": [
            "Kullanıcı adınız:\n",
            "Şifreniz:test\n",
            "Kullanıcı adı alanı boş olamaz!\n"
          ],
          "name": "stdout"
        }
      ]
    },
    {
      "cell_type": "code",
      "metadata": {
        "colab_type": "code",
        "id": "dSJOWv7cJksy",
        "outputId": "f4925904-e274-47ef-fdc2-3315cc4a4eb7",
        "colab": {
          "base_uri": "https://localhost:8080/",
          "height": 51
        }
      },
      "source": [
        "cümle = \"\"\"Python, nesne yönelimli, yorumlamalı, \n",
        "birimsel ve etkileşimli yüksek seviyeli bir programlama dilidir.\"\"\"\n",
        "\n",
        "aranacak_sözcük = input(\"Sözcüğü giriniz:\")\n",
        "\n",
        "if aranacak_sözcük in cümle:\n",
        "    print(\"Aranan sözcük cümlede mevcut!\")\n",
        "else:\n",
        "    print(\"Cümlede öyle bir sözcük yok!\")"
      ],
      "execution_count": 0,
      "outputs": [
        {
          "output_type": "stream",
          "text": [
            "Sözcüğü giriniz:sevda\n",
            "Cümlede öyle bir sözcük yok!\n"
          ],
          "name": "stdout"
        }
      ]
    },
    {
      "cell_type": "markdown",
      "metadata": {
        "colab_type": "text",
        "id": "h3tDa46CJksz"
      },
      "source": [
        "### Walrus Operator"
      ]
    },
    {
      "cell_type": "code",
      "metadata": {
        "colab_type": "code",
        "id": "9FvOoOzHJksz",
        "outputId": "42892098-1a1f-4ba8-be02-03fef1fed263",
        "colab": {
          "base_uri": "https://localhost:8080/",
          "height": 130
        }
      },
      "source": [
        "# yaş = int(input(\"Yaşınız: \"))\n",
        "if (yaş := int(input(\"Yaşınız: \"))) >= 18:\n",
        "    print(f\"{yaş} yaşındasınız, girebilirsiniz!\")\n",
        "else:\n",
        "    print(f\"{yaş} yaşındasınız, henüz giremezsiniz!\")"
      ],
      "execution_count": 0,
      "outputs": [
        {
          "output_type": "error",
          "ename": "SyntaxError",
          "evalue": "ignored",
          "traceback": [
            "\u001b[0;36m  File \u001b[0;32m\"<ipython-input-82-df3e381bf76f>\"\u001b[0;36m, line \u001b[0;32m2\u001b[0m\n\u001b[0;31m    if (yaş := int(input(\"Yaşınız: \"))) >= 18:\u001b[0m\n\u001b[0m            ^\u001b[0m\n\u001b[0;31mSyntaxError\u001b[0m\u001b[0;31m:\u001b[0m invalid syntax\n"
          ]
        }
      ]
    },
    {
      "cell_type": "markdown",
      "metadata": {
        "colab_type": "text",
        "id": "keNFEmgLJks1"
      },
      "source": [
        "### Dosya İşlemleri ( File Operations )"
      ]
    },
    {
      "cell_type": "code",
      "metadata": {
        "colab_type": "code",
        "id": "bLCRVYjGJks1",
        "colab": {}
      },
      "source": [
        "f = open('test.txt', 'w')\n",
        "print(\"Deneme0\", file=f, flush=False)"
      ],
      "execution_count": 0,
      "outputs": []
    },
    {
      "cell_type": "code",
      "metadata": {
        "colab_type": "code",
        "id": "uNR6hGxDJks3",
        "outputId": "18127811-d640-46d7-c47d-467011c167a0",
        "colab": {
          "base_uri": "https://localhost:8080/",
          "height": 34
        }
      },
      "source": [
        "print(\"Deneme1\", file=f, flush=True)\n",
        "print(\"Deneme2\", file=f, flush=True)\n",
        "f.write('Deneme3 f.write() kullanarak')"
      ],
      "execution_count": 0,
      "outputs": [
        {
          "output_type": "execute_result",
          "data": {
            "text/plain": [
              "28"
            ]
          },
          "metadata": {
            "tags": []
          },
          "execution_count": 84
        }
      ]
    },
    {
      "cell_type": "code",
      "metadata": {
        "colab_type": "code",
        "id": "75k8V0ERJks4",
        "colab": {}
      },
      "source": [
        "f.close()"
      ],
      "execution_count": 0,
      "outputs": []
    },
    {
      "cell_type": "code",
      "metadata": {
        "colab_type": "code",
        "id": "c48LOC3LJks5",
        "outputId": "9baba9fa-af2e-45a9-f857-2f4ece551690",
        "colab": {
          "base_uri": "https://localhost:8080/",
          "height": 86
        }
      },
      "source": [
        "f = open('test.txt', 'r')\n",
        "print(f.read())"
      ],
      "execution_count": 0,
      "outputs": [
        {
          "output_type": "stream",
          "text": [
            "Deneme0\n",
            "Deneme1\n",
            "Deneme2\n",
            "Deneme3 f.write() kullanarak\n"
          ],
          "name": "stdout"
        }
      ]
    },
    {
      "cell_type": "code",
      "metadata": {
        "colab_type": "code",
        "id": "0Bo2io9aJks6",
        "outputId": "63ceca10-fe33-47a0-f561-a9a49d8c832c",
        "colab": {
          "base_uri": "https://localhost:8080/",
          "height": 86
        }
      },
      "source": [
        "f.seek(0)\n",
        "print(f.read())"
      ],
      "execution_count": 0,
      "outputs": [
        {
          "output_type": "stream",
          "text": [
            "Deneme0\n",
            "Deneme1\n",
            "Deneme2\n",
            "Deneme3 f.write() kullanarak\n"
          ],
          "name": "stdout"
        }
      ]
    },
    {
      "cell_type": "code",
      "metadata": {
        "colab_type": "code",
        "id": "gcz3wDZ9Jks7",
        "outputId": "8879f266-5814-439d-fd48-a6aa9be80a2c",
        "colab": {
          "base_uri": "https://localhost:8080/",
          "height": 103
        }
      },
      "source": [
        "f.seek(0)\n",
        "print(f.readline())\n",
        "print(f.readline())\n",
        "\n",
        "f.seek(0)\n",
        "print(f.readlines())\n",
        "\n",
        "f.close()"
      ],
      "execution_count": 0,
      "outputs": [
        {
          "output_type": "stream",
          "text": [
            "Deneme0\n",
            "\n",
            "Deneme1\n",
            "\n",
            "['Deneme0\\n', 'Deneme1\\n', 'Deneme2\\n', 'Deneme3 f.write() kullanarak']\n"
          ],
          "name": "stdout"
        }
      ]
    },
    {
      "cell_type": "code",
      "metadata": {
        "colab_type": "code",
        "id": "qDy-qComJks8",
        "outputId": "aacbfe24-702d-451e-b669-1893da722524",
        "colab": {
          "base_uri": "https://localhost:8080/",
          "height": 86
        }
      },
      "source": [
        "with open('test.txt', 'r+') as f:\n",
        "    print(f.read())\n",
        "    f.write('Deneme 4 with open() kullanarak')"
      ],
      "execution_count": 0,
      "outputs": [
        {
          "output_type": "stream",
          "text": [
            "Deneme0\n",
            "Deneme1\n",
            "Deneme2\n",
            "Deneme3 f.write() kullanarakDeneme 4 with open() kullanarak\n"
          ],
          "name": "stdout"
        }
      ]
    },
    {
      "cell_type": "markdown",
      "metadata": {
        "colab_type": "text",
        "id": "XTtGXdC8Jks9"
      },
      "source": [
        "___\n",
        "## Döngüler ( Loops )"
      ]
    },
    {
      "cell_type": "code",
      "metadata": {
        "colab_type": "code",
        "id": "zSxVMO7dJks9",
        "outputId": "a2a19058-4d5f-47bc-fd42-7b45d0e9c91b",
        "colab": {
          "base_uri": "https://localhost:8080/",
          "height": 103
        }
      },
      "source": [
        "a = 5\n",
        "\n",
        "while a < 10:\n",
        "    print(a)\n",
        "    a += 1"
      ],
      "execution_count": 0,
      "outputs": [
        {
          "output_type": "stream",
          "text": [
            "5\n",
            "6\n",
            "7\n",
            "8\n",
            "9\n"
          ],
          "name": "stdout"
        }
      ]
    },
    {
      "cell_type": "code",
      "metadata": {
        "colab_type": "code",
        "id": "GETqbjwpJks-",
        "outputId": "dde66d9d-5189-4051-ab99-9a99a2697240",
        "colab": {
          "base_uri": "https://localhost:8080/",
          "height": 172
        }
      },
      "source": [
        "isim = \"Oğuz ATAY\"\n",
        "for harf in isim:\n",
        "    print(harf)"
      ],
      "execution_count": 0,
      "outputs": [
        {
          "output_type": "stream",
          "text": [
            "O\n",
            "ğ\n",
            "u\n",
            "z\n",
            " \n",
            "A\n",
            "T\n",
            "A\n",
            "Y\n"
          ],
          "name": "stdout"
        }
      ]
    },
    {
      "cell_type": "markdown",
      "metadata": {
        "colab_type": "text",
        "id": "DSTZe9HZJks_"
      },
      "source": [
        "___\n",
        "#### range, break, continue, pass statements\n",
        "___"
      ]
    },
    {
      "cell_type": "code",
      "metadata": {
        "colab_type": "code",
        "id": "9VaEuTCTJks_",
        "outputId": "f0befaa5-b008-4724-8407-123524a4dff5",
        "colab": {
          "base_uri": "https://localhost:8080/",
          "height": 34
        }
      },
      "source": [
        "for i in range(2, 10, 2):\n",
        "    print(i, end=\" \")"
      ],
      "execution_count": 0,
      "outputs": [
        {
          "output_type": "stream",
          "text": [
            "2 4 6 8 "
          ],
          "name": "stdout"
        }
      ]
    },
    {
      "cell_type": "code",
      "metadata": {
        "colab_type": "code",
        "id": "0siOxWwaJktB",
        "outputId": "6a13f75c-ab6e-41fa-be05-2dfafddeff56",
        "colab": {
          "base_uri": "https://localhost:8080/",
          "height": 34
        }
      },
      "source": [
        "for i in range(10):\n",
        "    print(i, end=\" \")\n",
        "    if i == 5:\n",
        "        break"
      ],
      "execution_count": 0,
      "outputs": [
        {
          "output_type": "stream",
          "text": [
            "0 1 2 3 4 5 "
          ],
          "name": "stdout"
        }
      ]
    },
    {
      "cell_type": "code",
      "metadata": {
        "colab_type": "code",
        "id": "M0V6IR9pJktE",
        "outputId": "e8b992c1-28f3-4902-d5c8-6a86a2e55645",
        "colab": {
          "base_uri": "https://localhost:8080/",
          "height": 34
        }
      },
      "source": [
        "for i in range(10):\n",
        "    if i == 5:\n",
        "        continue\n",
        "    print(i, end=\" \")"
      ],
      "execution_count": 0,
      "outputs": [
        {
          "output_type": "stream",
          "text": [
            "0 1 2 3 4 6 7 8 9 "
          ],
          "name": "stdout"
        }
      ]
    },
    {
      "cell_type": "code",
      "metadata": {
        "colab_type": "code",
        "id": "g0v7IX64JktG",
        "outputId": "0a31b4f7-dd56-4a1f-f66d-bbe727c57ae2",
        "colab": {
          "base_uri": "https://localhost:8080/",
          "height": 34
        }
      },
      "source": [
        "for i in range(10):\n",
        "    if i == 5:\n",
        "        pass\n",
        "    print(i, end=\" \")"
      ],
      "execution_count": 0,
      "outputs": [
        {
          "output_type": "stream",
          "text": [
            "0 1 2 3 4 5 6 7 8 9 "
          ],
          "name": "stdout"
        }
      ]
    },
    {
      "cell_type": "code",
      "metadata": {
        "colab_type": "code",
        "id": "ZDm4QzVxJktH",
        "outputId": "13bd242e-198a-428c-bfa6-620effa92043",
        "colab": {
          "base_uri": "https://localhost:8080/",
          "height": 206
        }
      },
      "source": [
        "gerçek_kullanıcı = \"test\"\n",
        "gerçek_şifre = \"test\"\n",
        "\n",
        "while True:\n",
        "    sorulan_kullanıcı = input(\"Kullanıcı adınız:\")\n",
        "    sorulan_şifre = input(\"Şifreniz:\")\n",
        "    \n",
        "    if gerçek_şifre == sorulan_şifre and gerçek_kullanıcı == sorulan_kullanıcı:\n",
        "        print(\"Giriş başarılı!\")\n",
        "        break\n",
        "    elif not sorulan_kullanıcı:\n",
        "        print(\"Kullanıcı adı alanı boş olamaz!\")\n",
        "    elif not sorulan_şifre:\n",
        "        print(\"Şifre alanı boş olamaz!\")\n",
        "    else:\n",
        "        print(\"Kullanıcı adı veya şifre yanlış!\")\n",
        "    \n",
        "    print(\"*\"*30)"
      ],
      "execution_count": 0,
      "outputs": [
        {
          "output_type": "stream",
          "text": [
            "Kullanıcı adınız:test\n",
            "Şifreniz:hk\n",
            "Kullanıcı adı veya şifre yanlış!\n",
            "******************************\n",
            "Kullanıcı adınız:kjkj\n",
            "Şifreniz:test\n",
            "Kullanıcı adı veya şifre yanlış!\n",
            "******************************\n",
            "Kullanıcı adınız:test\n",
            "Şifreniz:test\n",
            "Giriş başarılı!\n"
          ],
          "name": "stdout"
        }
      ]
    },
    {
      "cell_type": "markdown",
      "metadata": {
        "colab_type": "text",
        "id": "ybZhmq0MJktI"
      },
      "source": [
        "___\n",
        "## Hata Yakalama Try/Except/Finally ( Exception Handling )"
      ]
    },
    {
      "cell_type": "markdown",
      "metadata": {
        "colab_type": "text",
        "id": "73JXTr5QJktI"
      },
      "source": [
        "|Error Name| Description|\n",
        "| --------------------------------------|:----------------------:|\n",
        "|AssertionError|Raised when the assert statement fails.|\n",
        "|AttributeError|Raised on the attribute assignment or reference fails.|\n",
        "|EOFError|Raised when the input() function hits the end-of-file condition.|\n",
        "|FloatingPointError|Raised when a floating point operation fails.|\n",
        "|GeneratorExit|Raised when a generator's close() method is called.|\n",
        "|ImportError|Raised when the imported module is not found.|\n",
        "|IndexError|Raised when the index of a sequence is out of range.|\n",
        "|KeyError|Raised when a key is not found in a dictionary.|\n",
        "|KeyboardInterrupt|Raised when the user hits the interrupt key (Ctrl+c or delete).|\n",
        "|MemoryError|Raised when an operation runs out of memory.|\n",
        "|NameError|Raised when a variable is not found in the local or global scope.|\n",
        "|NotImplementedError|Raised by abstract methods.|\n",
        "|OSError|Raised when a system operation causes a system-related error.|\n",
        "|OverflowError|Raised when the result of an arithmetic operation is too large to be represented.|\n",
        "|ReferenceError|Raised when a weak reference proxy is used to access a garbage collected referent.|\n",
        "|RuntimeError|Raised when an error does not fall under any other category.|\n",
        "|StopIteration|Raised by the next() function to indicate that there is no further item to be returned by the iterator.|\n",
        "|SyntaxError|Raised by the parser when a syntax error is encountered.|\n",
        "|IndentationError|Raised when there is an incorrect indentation.|\n",
        "|TabError|Raised when the indentation consists of inconsistent tabs and spaces.|\n",
        "|SystemError|Raised when the interpreter detects internal error.|\n",
        "|SystemExit|Raised by the sys.exit() function.|\n",
        "|TypeError|Raised when a function or operation is applied to an object of an incorrect type.|\n",
        "|UnboundLocalError|Raised when a reference is made to a local variable in a function or method, but no value has been bound to that variable.|\n",
        "|UnicodeError|Raised when a Unicode-related encoding or decoding error occurs.|\n",
        "|UnicodeEncodeError|Raised when a Unicode-related error occurs during encoding.|\n",
        "|UnicodeDecodeError|Raised when a Unicode-related error occurs during decoding.|\n",
        "|UnicodeTranslateError|Raised when a Unicode-related error occurs during translation.|\n",
        "|ValueError|Raised when a function gets an argument of correct type but improper value.|\n",
        "|ZeroDivisionError|Raised when the second operand of a division or module operation is zero.|"
      ]
    },
    {
      "cell_type": "code",
      "metadata": {
        "colab_type": "code",
        "id": "p0ldUImfJktJ",
        "outputId": "2d5f4a3d-ef56-4422-cc40-ee234498064f",
        "colab": {
          "base_uri": "https://localhost:8080/",
          "height": 69
        }
      },
      "source": [
        "try:\n",
        "    sayı1 = int(input(\"Bölünecek sayıyı giriniz:\"))\n",
        "    sayı2 = int(input(\"Bölecek sayıyı giriniz:\"))\n",
        "    sonuc = sayı1 / sayı2\n",
        "    print(sonuc)\n",
        "    \n",
        "except ZeroDivisionError:\n",
        "    print(\"Herhangi bir sayı sıfıra bölünemez!\")\n",
        "\n",
        "except KeyboardInterrupt:\n",
        "    print(\"Klavye ile müdahale oldu!\")\n",
        "    \n",
        "except:\n",
        "    print(\"Bir hata meydana geldi!\")"
      ],
      "execution_count": 0,
      "outputs": [
        {
          "output_type": "stream",
          "text": [
            "Bölünecek sayıyı giriniz:9\n",
            "Bölecek sayıyı giriniz:0\n",
            "Herhangi bir sayı sıfıra bölünemez!\n"
          ],
          "name": "stdout"
        }
      ]
    },
    {
      "cell_type": "code",
      "metadata": {
        "colab_type": "code",
        "id": "_29AMcL4JktK",
        "outputId": "d8e016ea-d1ea-49b5-9748-a88c54f19e7e",
        "colab": {
          "base_uri": "https://localhost:8080/",
          "height": 51
        }
      },
      "source": [
        "yaş = int(input(\"Yaşınızı girin:\"))\n",
        "if yaş < 0:\n",
        "    raise Exception(\"Yaşınız negatif bir sayı olamaz!\")\n",
        "print(yaş)"
      ],
      "execution_count": 0,
      "outputs": [
        {
          "output_type": "stream",
          "text": [
            "Yaşınızı girin:10\n",
            "10\n"
          ],
          "name": "stdout"
        }
      ]
    },
    {
      "cell_type": "markdown",
      "metadata": {
        "colab_type": "text",
        "id": "R2cdGsXhJktM"
      },
      "source": [
        "## Listeler ve Demetler ( Lists and Tuples )"
      ]
    },
    {
      "cell_type": "code",
      "metadata": {
        "colab_type": "code",
        "id": "0c-YarJsJktM",
        "scrolled": true,
        "outputId": "14f17eb3-bc02-40cd-c42b-f3d50fab7992",
        "colab": {
          "base_uri": "https://localhost:8080/",
          "height": 69
        }
      },
      "source": [
        "liste1 = []\n",
        "liste1 = list()\n",
        "print(liste1, len(liste1))\n",
        "\n",
        "liste1.append(10)\n",
        "print(liste1, len(liste1))\n",
        "\n",
        "liste1.append(20)\n",
        "liste1.append(30)\n",
        "liste1.append(40)\n",
        "print(liste1, len(liste1))"
      ],
      "execution_count": 0,
      "outputs": [
        {
          "output_type": "stream",
          "text": [
            "[] 0\n",
            "[10] 1\n",
            "[10, 20, 30, 40] 4\n"
          ],
          "name": "stdout"
        }
      ]
    },
    {
      "cell_type": "code",
      "metadata": {
        "colab_type": "code",
        "id": "85ZD6NSGJktN",
        "outputId": "a0b31829-be0c-4d8b-8c81-5899f795abcd",
        "colab": {
          "base_uri": "https://localhost:8080/",
          "height": 86
        }
      },
      "source": [
        "print(liste1[0])\n",
        "print(liste1[2])\n",
        "print(liste1[-1])\n",
        "\n",
        "#liste[başlangıç: bitiş: artış]\n",
        "print(liste1[::-1])"
      ],
      "execution_count": 0,
      "outputs": [
        {
          "output_type": "stream",
          "text": [
            "10\n",
            "30\n",
            "40\n",
            "[40, 30, 20, 10]\n"
          ],
          "name": "stdout"
        }
      ]
    },
    {
      "cell_type": "code",
      "metadata": {
        "colab_type": "code",
        "id": "GV9zQUhzJktO",
        "outputId": "0ea6cd5a-36d9-463f-f515-26442be70b44",
        "colab": {
          "base_uri": "https://localhost:8080/",
          "height": 34
        }
      },
      "source": [
        "liste1.insert(0, 99)\n",
        "print(liste1)"
      ],
      "execution_count": 0,
      "outputs": [
        {
          "output_type": "stream",
          "text": [
            "[99, 10, 20, 30, 40]\n"
          ],
          "name": "stdout"
        }
      ]
    },
    {
      "cell_type": "code",
      "metadata": {
        "colab_type": "code",
        "id": "iswTCZO_JktP",
        "outputId": "1cd31e4e-6f51-4803-d6b3-adcb009384eb",
        "colab": {
          "base_uri": "https://localhost:8080/",
          "height": 34
        }
      },
      "source": [
        "liste1.pop()\n",
        "print(liste1)"
      ],
      "execution_count": 0,
      "outputs": [
        {
          "output_type": "stream",
          "text": [
            "[99, 10, 20, 30]\n"
          ],
          "name": "stdout"
        }
      ]
    },
    {
      "cell_type": "code",
      "metadata": {
        "colab_type": "code",
        "id": "qmDW_vdVJktR",
        "outputId": "7226c654-42df-4ff3-d295-74407674e927",
        "colab": {
          "base_uri": "https://localhost:8080/",
          "height": 34
        }
      },
      "source": [
        "silinen = liste1.pop(0)\n",
        "print(liste1, silinen)"
      ],
      "execution_count": 0,
      "outputs": [
        {
          "output_type": "stream",
          "text": [
            "[10, 20, 30] 99\n"
          ],
          "name": "stdout"
        }
      ]
    },
    {
      "cell_type": "code",
      "metadata": {
        "colab_type": "code",
        "id": "Blji52wAJktR",
        "outputId": "f8250821-f949-4668-8e00-b0a2ad0380a9",
        "colab": {
          "base_uri": "https://localhost:8080/",
          "height": 34
        }
      },
      "source": [
        "liste1.remove(30)\n",
        "print(liste1)"
      ],
      "execution_count": 0,
      "outputs": [
        {
          "output_type": "stream",
          "text": [
            "[10, 20]\n"
          ],
          "name": "stdout"
        }
      ]
    },
    {
      "cell_type": "code",
      "metadata": {
        "colab_type": "code",
        "id": "nFIyZkc6JktS",
        "outputId": "e5237dbd-bddf-405a-c034-8aa33d5e3e93",
        "colab": {
          "base_uri": "https://localhost:8080/",
          "height": 51
        }
      },
      "source": [
        "liste1 = [2, 0, 1, 7]\n",
        "liste2 = [4, 3, 2, 8]\n",
        "print(liste1, liste2)\n",
        "\n",
        "liste1.extend(liste2)\n",
        "print(liste1)"
      ],
      "execution_count": 0,
      "outputs": [
        {
          "output_type": "stream",
          "text": [
            "[2, 0, 1, 7] [4, 3, 2, 8]\n",
            "[2, 0, 1, 7, 4, 3, 2, 8]\n"
          ],
          "name": "stdout"
        }
      ]
    },
    {
      "cell_type": "code",
      "metadata": {
        "colab_type": "code",
        "id": "mtY-opU2JktT",
        "outputId": "612f8c44-869c-456f-e6e5-91dfe6c8dadf",
        "colab": {
          "base_uri": "https://localhost:8080/",
          "height": 34
        }
      },
      "source": [
        "liste1 = sorted(liste1)\n",
        "print(liste1)"
      ],
      "execution_count": 0,
      "outputs": [
        {
          "output_type": "stream",
          "text": [
            "[0, 1, 2, 2, 3, 4, 7, 8]\n"
          ],
          "name": "stdout"
        }
      ]
    },
    {
      "cell_type": "code",
      "metadata": {
        "colab_type": "code",
        "id": "iWKGSMNrJktX",
        "outputId": "f4e4a178-40a6-4a2e-adb2-02e0d09f1f5d",
        "colab": {
          "base_uri": "https://localhost:8080/",
          "height": 34
        }
      },
      "source": [
        "liste1.sort()\n",
        "print(liste1)"
      ],
      "execution_count": 0,
      "outputs": [
        {
          "output_type": "stream",
          "text": [
            "[0, 1, 2, 2, 3, 4, 7, 8]\n"
          ],
          "name": "stdout"
        }
      ]
    },
    {
      "cell_type": "code",
      "metadata": {
        "colab_type": "code",
        "id": "ZiU2q5dkJktY",
        "outputId": "09877ed4-69ff-4df1-a83a-c9492369d773",
        "colab": {
          "base_uri": "https://localhost:8080/",
          "height": 51
        }
      },
      "source": [
        "liste1 = [\"Elma\", \"Armut\", \"Tilki\", \"Kuş\", \"Armut\", \"Çiçek\"]\n",
        "index = liste1.index(input(\"Aranacak kelime:\"))\n",
        "print(index)"
      ],
      "execution_count": 0,
      "outputs": [
        {
          "output_type": "stream",
          "text": [
            "Aranacak kelime:Elma\n",
            "0\n"
          ],
          "name": "stdout"
        }
      ]
    },
    {
      "cell_type": "code",
      "metadata": {
        "colab_type": "code",
        "id": "7NIlPY-fJktZ",
        "outputId": "12e35bc4-6ba2-4d17-d0c8-ad5b6203dd2e",
        "colab": {
          "base_uri": "https://localhost:8080/",
          "height": 51
        }
      },
      "source": [
        "liste1 = [\"Elma\", \"Armut\", \"Tilki\", \"Kuş\", \"Armut\", \"Çiçek\"]\n",
        "sayaç = liste1.count(input(\"Sayısını bulunacak kelime:\"))\n",
        "print(sayaç)"
      ],
      "execution_count": 0,
      "outputs": [
        {
          "output_type": "stream",
          "text": [
            "Sayısını bulunacak kelime:Elma\n",
            "1\n"
          ],
          "name": "stdout"
        }
      ]
    },
    {
      "cell_type": "code",
      "metadata": {
        "colab_type": "code",
        "id": "P73rgRh5Jkta",
        "outputId": "6f169e4b-b486-4388-c027-a15a5b4131fb",
        "colab": {
          "base_uri": "https://localhost:8080/",
          "height": 34
        }
      },
      "source": [
        "yedek_liste = liste1\n",
        "print(yedek_liste)"
      ],
      "execution_count": 0,
      "outputs": [
        {
          "output_type": "stream",
          "text": [
            "['Elma', 'Armut', 'Tilki', 'Kuş', 'Armut', 'Çiçek']\n"
          ],
          "name": "stdout"
        }
      ]
    },
    {
      "cell_type": "code",
      "metadata": {
        "colab_type": "code",
        "id": "G3pXgkgfJktb",
        "outputId": "c8983d73-8c42-4d9d-9cb0-054ddbbb23db",
        "colab": {
          "base_uri": "https://localhost:8080/",
          "height": 86
        }
      },
      "source": [
        "yedek_liste[0] = \"Muz\"\n",
        "print(yedek_liste)\n",
        "print(liste1)\n",
        "\n",
        "print(id(yedek_liste))\n",
        "print(id(liste1))"
      ],
      "execution_count": 0,
      "outputs": [
        {
          "output_type": "stream",
          "text": [
            "['Muz', 'Armut', 'Tilki', 'Kuş', 'Armut', 'Çiçek']\n",
            "['Muz', 'Armut', 'Tilki', 'Kuş', 'Armut', 'Çiçek']\n",
            "140238572772232\n",
            "140238572772232\n"
          ],
          "name": "stdout"
        }
      ]
    },
    {
      "cell_type": "code",
      "metadata": {
        "colab_type": "code",
        "id": "OfbK-RcJJktc",
        "colab": {}
      },
      "source": [
        "liste1 = [\"Elma\", \"Armut\", \"Tilki\", \"Kuş\", \"Armut\", \"Çiçek\"]\n",
        "yeni_liste = liste1.copy()"
      ],
      "execution_count": 0,
      "outputs": []
    },
    {
      "cell_type": "code",
      "metadata": {
        "colab_type": "code",
        "id": "82GNZr_pJktd",
        "outputId": "394a038d-3dc7-4a8b-d3b0-611eef56a250",
        "colab": {
          "base_uri": "https://localhost:8080/",
          "height": 86
        }
      },
      "source": [
        "yeni_liste[0] = \"Muz\"\n",
        "print(yeni_liste)\n",
        "print(liste1)\n",
        "\n",
        "print(id(yeni_liste))\n",
        "print(id(liste1))"
      ],
      "execution_count": 0,
      "outputs": [
        {
          "output_type": "stream",
          "text": [
            "['Muz', 'Armut', 'Tilki', 'Kuş', 'Armut', 'Çiçek']\n",
            "['Elma', 'Armut', 'Tilki', 'Kuş', 'Armut', 'Çiçek']\n",
            "140238572771528\n",
            "140238572773320\n"
          ],
          "name": "stdout"
        }
      ]
    },
    {
      "cell_type": "code",
      "metadata": {
        "colab_type": "code",
        "id": "Gwn-FJsGJkte",
        "colab": {}
      },
      "source": [
        "liste3 = [\"John\", 1, \"Doe\", 2.56, \"Oğuz\", (55+5j), \"ATAY\"]"
      ],
      "execution_count": 0,
      "outputs": []
    },
    {
      "cell_type": "code",
      "metadata": {
        "colab_type": "code",
        "id": "llU04U0DJktf",
        "outputId": "ae1e3cf5-d0d4-455d-9de8-57b2db93dbf9",
        "colab": {
          "base_uri": "https://localhost:8080/",
          "height": 138
        }
      },
      "source": [
        "for i in liste3:\n",
        "    print(i, type(i))"
      ],
      "execution_count": 0,
      "outputs": [
        {
          "output_type": "stream",
          "text": [
            "John <class 'str'>\n",
            "1 <class 'int'>\n",
            "Doe <class 'str'>\n",
            "2.56 <class 'float'>\n",
            "Oğuz <class 'str'>\n",
            "(55+5j) <class 'complex'>\n",
            "ATAY <class 'str'>\n"
          ],
          "name": "stdout"
        }
      ]
    },
    {
      "cell_type": "code",
      "metadata": {
        "colab_type": "code",
        "id": "LPNLqjqJJktg",
        "outputId": "d5f9ee89-a59c-4775-90b5-a27c75afe1b6",
        "colab": {
          "base_uri": "https://localhost:8080/",
          "height": 69
        }
      },
      "source": [
        "matrix = [\n",
        "    [1, 2, 3, 4],\n",
        "    [9, 8, 7, 6],\n",
        "    [0, 6, 5, 2]\n",
        "]\n",
        "\n",
        "for satır in matrix:\n",
        "    for sütun in satır:\n",
        "        print(sütun, end=\" \")\n",
        "    print()"
      ],
      "execution_count": 0,
      "outputs": [
        {
          "output_type": "stream",
          "text": [
            "1 2 3 4 \n",
            "9 8 7 6 \n",
            "0 6 5 2 \n"
          ],
          "name": "stdout"
        }
      ]
    },
    {
      "cell_type": "code",
      "metadata": {
        "colab_type": "code",
        "id": "5DymGnTAJkth",
        "scrolled": true,
        "outputId": "653b1921-b054-4d00-916d-d5a8e66346f0",
        "colab": {
          "base_uri": "https://localhost:8080/",
          "height": 1000
        }
      },
      "source": [
        "demet = ()\n",
        "demet = tuple()\n",
        "demet = (10, 20, 25, 30, 35, 40, 35)\n",
        "\n",
        "index = demet.index(25)\n",
        "print(index)\n",
        "\n",
        "sayaç = demet.count(20)\n",
        "print(sayaç)\n",
        "\n",
        "help(tuple())"
      ],
      "execution_count": 0,
      "outputs": [
        {
          "output_type": "stream",
          "text": [
            "2\n",
            "1\n",
            "Help on tuple object:\n",
            "\n",
            "class tuple(object)\n",
            " |  tuple() -> empty tuple\n",
            " |  tuple(iterable) -> tuple initialized from iterable's items\n",
            " |  \n",
            " |  If the argument is a tuple, the return value is the same object.\n",
            " |  \n",
            " |  Methods defined here:\n",
            " |  \n",
            " |  __add__(self, value, /)\n",
            " |      Return self+value.\n",
            " |  \n",
            " |  __contains__(self, key, /)\n",
            " |      Return key in self.\n",
            " |  \n",
            " |  __eq__(self, value, /)\n",
            " |      Return self==value.\n",
            " |  \n",
            " |  __ge__(self, value, /)\n",
            " |      Return self>=value.\n",
            " |  \n",
            " |  __getattribute__(self, name, /)\n",
            " |      Return getattr(self, name).\n",
            " |  \n",
            " |  __getitem__(self, key, /)\n",
            " |      Return self[key].\n",
            " |  \n",
            " |  __getnewargs__(...)\n",
            " |  \n",
            " |  __gt__(self, value, /)\n",
            " |      Return self>value.\n",
            " |  \n",
            " |  __hash__(self, /)\n",
            " |      Return hash(self).\n",
            " |  \n",
            " |  __iter__(self, /)\n",
            " |      Implement iter(self).\n",
            " |  \n",
            " |  __le__(self, value, /)\n",
            " |      Return self<=value.\n",
            " |  \n",
            " |  __len__(self, /)\n",
            " |      Return len(self).\n",
            " |  \n",
            " |  __lt__(self, value, /)\n",
            " |      Return self<value.\n",
            " |  \n",
            " |  __mul__(self, value, /)\n",
            " |      Return self*value.\n",
            " |  \n",
            " |  __ne__(self, value, /)\n",
            " |      Return self!=value.\n",
            " |  \n",
            " |  __new__(*args, **kwargs) from builtins.type\n",
            " |      Create and return a new object.  See help(type) for accurate signature.\n",
            " |  \n",
            " |  __repr__(self, /)\n",
            " |      Return repr(self).\n",
            " |  \n",
            " |  __rmul__(self, value, /)\n",
            " |      Return value*self.\n",
            " |  \n",
            " |  count(...)\n",
            " |      T.count(value) -> integer -- return number of occurrences of value\n",
            " |  \n",
            " |  index(...)\n",
            " |      T.index(value, [start, [stop]]) -> integer -- return first index of value.\n",
            " |      Raises ValueError if the value is not present.\n",
            "\n"
          ],
          "name": "stdout"
        }
      ]
    },
    {
      "cell_type": "markdown",
      "metadata": {
        "colab_type": "text",
        "id": "sip1s0KPJkth"
      },
      "source": [
        "### Matematiksel Fonksiyonlar ( Mathematical Functions ) "
      ]
    },
    {
      "cell_type": "code",
      "metadata": {
        "colab_type": "code",
        "id": "lAbjCA7PJkti",
        "outputId": "1e334d8e-e01a-4a39-aee0-5c6145032b02",
        "colab": {
          "base_uri": "https://localhost:8080/",
          "height": 51
        }
      },
      "source": [
        "abs_number = abs(-10)\n",
        "print(abs_number)\n",
        "\n",
        "divmod_number = divmod(20, 7)\n",
        "print(divmod_number)\n",
        "# 20 // 7, 20 % 7"
      ],
      "execution_count": 0,
      "outputs": [
        {
          "output_type": "stream",
          "text": [
            "10\n",
            "(2, 6)\n"
          ],
          "name": "stdout"
        }
      ]
    },
    {
      "cell_type": "code",
      "metadata": {
        "colab_type": "code",
        "id": "kFV9DgO5Jktk",
        "outputId": "fae8b789-bfa1-4975-d8e1-7d0cfd8dcef9",
        "colab": {
          "base_uri": "https://localhost:8080/",
          "height": 34
        }
      },
      "source": [
        "from random import randint\n",
        "\n",
        "sayı_listesi = []\n",
        "for i in range(15):\n",
        "    sayı_listesi.append(randint(-10, 10))\n",
        "\n",
        "print(sayı_listesi)"
      ],
      "execution_count": 0,
      "outputs": [
        {
          "output_type": "stream",
          "text": [
            "[9, 0, 10, -10, -3, -2, -9, 9, -1, 3, 8, 0, 3, 1, 7]\n"
          ],
          "name": "stdout"
        }
      ]
    },
    {
      "cell_type": "code",
      "metadata": {
        "colab_type": "code",
        "id": "-GV1Uph2Jktl",
        "outputId": "6dd25915-3c3c-47c7-b90c-1b159c8a6685",
        "colab": {
          "base_uri": "https://localhost:8080/",
          "height": 86
        }
      },
      "source": [
        "string = \"{} fonksiyonunun çıktısı => {}\"\n",
        "\n",
        "print(\"Liste: {}\".format(sayı_listesi))\n",
        "print(string.format(\"max()\", max(sayı_listesi)))\n",
        "print(string.format(\"min()\", min(sayı_listesi)))\n",
        "print(string.format(\"sum()\", sum(sayı_listesi)))"
      ],
      "execution_count": 0,
      "outputs": [
        {
          "output_type": "stream",
          "text": [
            "Liste: [9, 0, 10, -10, -3, -2, -9, 9, -1, 3, 8, 0, 3, 1, 7]\n",
            "max() fonksiyonunun çıktısı => 10\n",
            "min() fonksiyonunun çıktısı => -10\n",
            "sum() fonksiyonunun çıktısı => 25\n"
          ],
          "name": "stdout"
        }
      ]
    },
    {
      "cell_type": "markdown",
      "metadata": {
        "colab_type": "text",
        "id": "9whjWWUdJktn"
      },
      "source": [
        "## Sözlükler ( Dictionaries )"
      ]
    },
    {
      "cell_type": "code",
      "metadata": {
        "colab_type": "code",
        "id": "X6fvhH0_Jktn",
        "outputId": "3d5a5054-953c-48f0-cb20-f0d60cc18d41",
        "colab": {
          "base_uri": "https://localhost:8080/",
          "height": 34
        }
      },
      "source": [
        "sozluk = {}\n",
        "sozluk = dict()\n",
        "\n",
        "sozluk['Elma'] = 'Apple'\n",
        "sozluk['Armut'] = 'Pear'\n",
        "sozluk['Tilki'] = 'Fox'\n",
        "\n",
        "print(sozluk)"
      ],
      "execution_count": 0,
      "outputs": [
        {
          "output_type": "stream",
          "text": [
            "{'Elma': 'Apple', 'Armut': 'Pear', 'Tilki': 'Fox'}\n"
          ],
          "name": "stdout"
        }
      ]
    },
    {
      "cell_type": "code",
      "metadata": {
        "colab_type": "code",
        "id": "YxJd-yx4Jktp",
        "outputId": "8f633d13-b394-474f-ec7a-147f9839ecec",
        "colab": {
          "base_uri": "https://localhost:8080/",
          "height": 51
        }
      },
      "source": [
        "sozluk_keys = sozluk.keys()\n",
        "print(sozluk_keys)\n",
        "\n",
        "sozluk_values = sozluk.values()\n",
        "print(sozluk_values)"
      ],
      "execution_count": 0,
      "outputs": [
        {
          "output_type": "stream",
          "text": [
            "dict_keys(['Elma', 'Armut', 'Tilki'])\n",
            "dict_values(['Apple', 'Pear', 'Fox'])\n"
          ],
          "name": "stdout"
        }
      ]
    },
    {
      "cell_type": "code",
      "metadata": {
        "colab_type": "code",
        "id": "eLn08kZQJktq",
        "outputId": "693a257a-33fc-4b0f-e8c1-0c82c853ac82",
        "colab": {
          "base_uri": "https://localhost:8080/",
          "height": 86
        }
      },
      "source": [
        "\"\"\"\n",
        "for key in sozluk.keys():\n",
        "    pass\n",
        "    \n",
        "for value in sozluk.values():\n",
        "    pass\n",
        "\"\"\"\n",
        "print(sozluk.items())\n",
        "for key, value in sozluk.items():\n",
        "    print(key, value)"
      ],
      "execution_count": 0,
      "outputs": [
        {
          "output_type": "stream",
          "text": [
            "dict_items([('Elma', 'Apple'), ('Armut', 'Pear'), ('Tilki', 'Fox')])\n",
            "Elma Apple\n",
            "Armut Pear\n",
            "Tilki Fox\n"
          ],
          "name": "stdout"
        }
      ]
    },
    {
      "cell_type": "code",
      "metadata": {
        "colab_type": "code",
        "id": "lXG5JnSTJktr",
        "outputId": "f453b35d-82f8-48a8-f1d3-245415072f3e",
        "colab": {
          "base_uri": "https://localhost:8080/",
          "height": 199
        }
      },
      "source": [
        "print(sozluk['Armut'])\n",
        "print(sozluk['Üzüm'])"
      ],
      "execution_count": 0,
      "outputs": [
        {
          "output_type": "stream",
          "text": [
            "Pear\n"
          ],
          "name": "stdout"
        },
        {
          "output_type": "error",
          "ename": "KeyError",
          "evalue": "ignored",
          "traceback": [
            "\u001b[0;31m---------------------------------------------------------------------------\u001b[0m",
            "\u001b[0;31mKeyError\u001b[0m                                  Traceback (most recent call last)",
            "\u001b[0;32m<ipython-input-135-7a29f718c7cd>\u001b[0m in \u001b[0;36m<module>\u001b[0;34m()\u001b[0m\n\u001b[1;32m      1\u001b[0m \u001b[0mprint\u001b[0m\u001b[0;34m(\u001b[0m\u001b[0msozluk\u001b[0m\u001b[0;34m[\u001b[0m\u001b[0;34m'Armut'\u001b[0m\u001b[0;34m]\u001b[0m\u001b[0;34m)\u001b[0m\u001b[0;34m\u001b[0m\u001b[0;34m\u001b[0m\u001b[0m\n\u001b[0;32m----> 2\u001b[0;31m \u001b[0mprint\u001b[0m\u001b[0;34m(\u001b[0m\u001b[0msozluk\u001b[0m\u001b[0;34m[\u001b[0m\u001b[0;34m'Üzüm'\u001b[0m\u001b[0;34m]\u001b[0m\u001b[0;34m)\u001b[0m\u001b[0;34m\u001b[0m\u001b[0;34m\u001b[0m\u001b[0m\n\u001b[0m",
            "\u001b[0;31mKeyError\u001b[0m: 'Üzüm'"
          ]
        }
      ]
    },
    {
      "cell_type": "code",
      "metadata": {
        "colab_type": "code",
        "id": "zuETRKKKJktr",
        "outputId": "fe36a35d-5028-4cc0-d07b-58a581cf5cd6",
        "colab": {
          "base_uri": "https://localhost:8080/",
          "height": 34
        }
      },
      "source": [
        "print(sozluk.get('Üzüm'))"
      ],
      "execution_count": 0,
      "outputs": [
        {
          "output_type": "stream",
          "text": [
            "None\n"
          ],
          "name": "stdout"
        }
      ]
    },
    {
      "cell_type": "code",
      "metadata": {
        "colab_type": "code",
        "id": "vq5Nm1vMJktt",
        "outputId": "21d7891d-b01c-4249-ff55-ee2fc1a12726",
        "colab": {
          "base_uri": "https://localhost:8080/",
          "height": 34
        }
      },
      "source": [
        "sozluk.setdefault('Elma', 'Malus')"
      ],
      "execution_count": 0,
      "outputs": [
        {
          "output_type": "execute_result",
          "data": {
            "text/plain": [
              "'Apple'"
            ]
          },
          "metadata": {
            "tags": []
          },
          "execution_count": 137
        }
      ]
    },
    {
      "cell_type": "code",
      "metadata": {
        "colab_type": "code",
        "id": "pRETlCp_Jktt",
        "outputId": "b45b1305-487a-4432-c4b4-bbeecf1897eb",
        "colab": {
          "base_uri": "https://localhost:8080/",
          "height": 34
        }
      },
      "source": [
        "sozluk.setdefault('Üzüm', 'Grape')"
      ],
      "execution_count": 0,
      "outputs": [
        {
          "output_type": "execute_result",
          "data": {
            "text/plain": [
              "'Grape'"
            ]
          },
          "metadata": {
            "tags": []
          },
          "execution_count": 138
        }
      ]
    },
    {
      "cell_type": "markdown",
      "metadata": {
        "colab_type": "text",
        "id": "vcwht9vhJktw"
      },
      "source": [
        "## Kümeler ve Dondurulmuş Kümeler ( Sets and Frozensets )"
      ]
    },
    {
      "cell_type": "code",
      "metadata": {
        "colab_type": "code",
        "id": "ADdrGsvcJktw",
        "outputId": "913fb3f9-7c62-4798-b5a8-47d95a962b33",
        "colab": {
          "base_uri": "https://localhost:8080/",
          "height": 34
        }
      },
      "source": [
        "küme = set()\n",
        "\n",
        "küme.add(1)\n",
        "küme.add(2)\n",
        "küme.add(3)\n",
        "küme.add(3)\n",
        "küme.add(3)\n",
        "küme.add(2)\n",
        "\n",
        "print(küme)"
      ],
      "execution_count": 0,
      "outputs": [
        {
          "output_type": "stream",
          "text": [
            "{1, 2, 3}\n"
          ],
          "name": "stdout"
        }
      ]
    },
    {
      "cell_type": "code",
      "metadata": {
        "colab_type": "code",
        "id": "g0IqVQc0Jktx",
        "outputId": "0f74d1b1-e2f2-4a04-eb64-a8b4fcac04aa",
        "colab": {
          "base_uri": "https://localhost:8080/",
          "height": 34
        }
      },
      "source": [
        "liste = [10, 12, 1, 0, 2, 3, 4, 4, 2, 3, 0, 2, 1, 5]\n",
        "küme = set(liste)\n",
        "\n",
        "print(küme)"
      ],
      "execution_count": 0,
      "outputs": [
        {
          "output_type": "stream",
          "text": [
            "{0, 1, 2, 3, 4, 5, 10, 12}\n"
          ],
          "name": "stdout"
        }
      ]
    },
    {
      "cell_type": "code",
      "metadata": {
        "colab_type": "code",
        "id": "BG4yCaSjJkty",
        "outputId": "413e3a44-522a-43ce-a4ee-af580b92a9e9",
        "colab": {
          "base_uri": "https://localhost:8080/",
          "height": 34
        }
      },
      "source": [
        "küme.remove(10)\n",
        "print(küme)"
      ],
      "execution_count": 0,
      "outputs": [
        {
          "output_type": "stream",
          "text": [
            "{0, 1, 2, 3, 4, 5, 12}\n"
          ],
          "name": "stdout"
        }
      ]
    },
    {
      "cell_type": "code",
      "metadata": {
        "colab_type": "code",
        "id": "mEKKQxVdJktz",
        "outputId": "d109551e-d536-4006-a37f-7a7bc75e3cc6",
        "colab": {
          "base_uri": "https://localhost:8080/",
          "height": 69
        }
      },
      "source": [
        "liste1 = [10, 100, 50, 30]\n",
        "liste2 = [20, 50, 90, 30]\n",
        "\n",
        "küme1 = set(liste1)\n",
        "küme2 = set(liste2)\n",
        "\n",
        "print(\"Kesişim kümesi: \", küme1.intersection(küme2))\n",
        "print(\"Birleşim kümesi: \", küme1.union(küme2))\n",
        "print(\"Küme1: \", küme1)"
      ],
      "execution_count": 0,
      "outputs": [
        {
          "output_type": "stream",
          "text": [
            "Kesişim kümesi:  {50, 30}\n",
            "Birleşim kümesi:  {100, 10, 50, 20, 90, 30}\n",
            "Küme1:  {10, 100, 50, 30}\n"
          ],
          "name": "stdout"
        }
      ]
    },
    {
      "cell_type": "markdown",
      "metadata": {
        "colab_type": "text",
        "id": "K8mNVP1ZJkt0"
      },
      "source": [
        "## Üç büyükler"
      ]
    },
    {
      "cell_type": "code",
      "metadata": {
        "colab_type": "code",
        "id": "gl-dAUtPJkt0",
        "outputId": "fe61cea0-3886-410d-9f23-686d577bc16b",
        "colab": {}
      },
      "source": [
        "help(list)"
      ],
      "execution_count": 0,
      "outputs": [
        {
          "output_type": "stream",
          "text": [
            "Help on class list in module builtins:\n",
            "\n",
            "class list(object)\n",
            " |  list(iterable=(), /)\n",
            " |  \n",
            " |  Built-in mutable sequence.\n",
            " |  \n",
            " |  If no argument is given, the constructor creates a new empty list.\n",
            " |  The argument must be an iterable if specified.\n",
            " |  \n",
            " |  Methods defined here:\n",
            " |  \n",
            " |  __add__(self, value, /)\n",
            " |      Return self+value.\n",
            " |  \n",
            " |  __contains__(self, key, /)\n",
            " |      Return key in self.\n",
            " |  \n",
            " |  __delitem__(self, key, /)\n",
            " |      Delete self[key].\n",
            " |  \n",
            " |  __eq__(self, value, /)\n",
            " |      Return self==value.\n",
            " |  \n",
            " |  __ge__(self, value, /)\n",
            " |      Return self>=value.\n",
            " |  \n",
            " |  __getattribute__(self, name, /)\n",
            " |      Return getattr(self, name).\n",
            " |  \n",
            " |  __getitem__(...)\n",
            " |      x.__getitem__(y) <==> x[y]\n",
            " |  \n",
            " |  __gt__(self, value, /)\n",
            " |      Return self>value.\n",
            " |  \n",
            " |  __iadd__(self, value, /)\n",
            " |      Implement self+=value.\n",
            " |  \n",
            " |  __imul__(self, value, /)\n",
            " |      Implement self*=value.\n",
            " |  \n",
            " |  __init__(self, /, *args, **kwargs)\n",
            " |      Initialize self.  See help(type(self)) for accurate signature.\n",
            " |  \n",
            " |  __iter__(self, /)\n",
            " |      Implement iter(self).\n",
            " |  \n",
            " |  __le__(self, value, /)\n",
            " |      Return self<=value.\n",
            " |  \n",
            " |  __len__(self, /)\n",
            " |      Return len(self).\n",
            " |  \n",
            " |  __lt__(self, value, /)\n",
            " |      Return self<value.\n",
            " |  \n",
            " |  __mul__(self, value, /)\n",
            " |      Return self*value.\n",
            " |  \n",
            " |  __ne__(self, value, /)\n",
            " |      Return self!=value.\n",
            " |  \n",
            " |  __repr__(self, /)\n",
            " |      Return repr(self).\n",
            " |  \n",
            " |  __reversed__(self, /)\n",
            " |      Return a reverse iterator over the list.\n",
            " |  \n",
            " |  __rmul__(self, value, /)\n",
            " |      Return value*self.\n",
            " |  \n",
            " |  __setitem__(self, key, value, /)\n",
            " |      Set self[key] to value.\n",
            " |  \n",
            " |  __sizeof__(self, /)\n",
            " |      Return the size of the list in memory, in bytes.\n",
            " |  \n",
            " |  append(self, object, /)\n",
            " |      Append object to the end of the list.\n",
            " |  \n",
            " |  clear(self, /)\n",
            " |      Remove all items from list.\n",
            " |  \n",
            " |  copy(self, /)\n",
            " |      Return a shallow copy of the list.\n",
            " |  \n",
            " |  count(self, value, /)\n",
            " |      Return number of occurrences of value.\n",
            " |  \n",
            " |  extend(self, iterable, /)\n",
            " |      Extend list by appending elements from the iterable.\n",
            " |  \n",
            " |  index(self, value, start=0, stop=9223372036854775807, /)\n",
            " |      Return first index of value.\n",
            " |      \n",
            " |      Raises ValueError if the value is not present.\n",
            " |  \n",
            " |  insert(self, index, object, /)\n",
            " |      Insert object before index.\n",
            " |  \n",
            " |  pop(self, index=-1, /)\n",
            " |      Remove and return item at index (default last).\n",
            " |      \n",
            " |      Raises IndexError if list is empty or index is out of range.\n",
            " |  \n",
            " |  remove(self, value, /)\n",
            " |      Remove first occurrence of value.\n",
            " |      \n",
            " |      Raises ValueError if the value is not present.\n",
            " |  \n",
            " |  reverse(self, /)\n",
            " |      Reverse *IN PLACE*.\n",
            " |  \n",
            " |  sort(self, /, *, key=None, reverse=False)\n",
            " |      Sort the list in ascending order and return None.\n",
            " |      \n",
            " |      The sort is in-place (i.e. the list itself is modified) and stable (i.e. the\n",
            " |      order of two equal elements is maintained).\n",
            " |      \n",
            " |      If a key function is given, apply it once to each list item and sort them,\n",
            " |      ascending or descending, according to their function values.\n",
            " |      \n",
            " |      The reverse flag can be set to sort in descending order.\n",
            " |  \n",
            " |  ----------------------------------------------------------------------\n",
            " |  Static methods defined here:\n",
            " |  \n",
            " |  __new__(*args, **kwargs) from builtins.type\n",
            " |      Create and return a new object.  See help(type) for accurate signature.\n",
            " |  \n",
            " |  ----------------------------------------------------------------------\n",
            " |  Data and other attributes defined here:\n",
            " |  \n",
            " |  __hash__ = None\n",
            "\n"
          ],
          "name": "stdout"
        }
      ]
    },
    {
      "cell_type": "code",
      "metadata": {
        "colab_type": "code",
        "id": "jD6ExYi1Jkt1",
        "outputId": "0b53a98b-50d3-42aa-f414-a578c14c3019",
        "colab": {
          "base_uri": "https://localhost:8080/",
          "height": 34
        }
      },
      "source": [
        "liste = sorted([\"Ayşe\", \"Ahmet\",\"Mehmet\", \"Nuri\", \"Fatma\", \"Binnur\"])\n",
        "print(*enumerate(liste))"
      ],
      "execution_count": 0,
      "outputs": [
        {
          "output_type": "stream",
          "text": [
            "(0, 'Ahmet') (1, 'Ayşe') (2, 'Binnur') (3, 'Fatma') (4, 'Mehmet') (5, 'Nuri')\n"
          ],
          "name": "stdout"
        }
      ]
    },
    {
      "cell_type": "code",
      "metadata": {
        "colab_type": "code",
        "id": "gAvms22GJkt3",
        "outputId": "b03d4aa8-4214-4cce-8a55-7b71f646778d",
        "colab": {
          "base_uri": "https://localhost:8080/",
          "height": 120
        }
      },
      "source": [
        "for no, isim in enumerate(liste, 0):\n",
        "    print(no, isim)"
      ],
      "execution_count": 0,
      "outputs": [
        {
          "output_type": "stream",
          "text": [
            "0 Ahmet\n",
            "1 Ayşe\n",
            "2 Binnur\n",
            "3 Fatma\n",
            "4 Mehmet\n",
            "5 Nuri\n"
          ],
          "name": "stdout"
        }
      ]
    },
    {
      "cell_type": "code",
      "metadata": {
        "colab_type": "code",
        "id": "PUxB59PtJkt4",
        "outputId": "f159af85-5458-40ab-b126-7351c20a65d4",
        "colab": {}
      },
      "source": [
        "dir(list)"
      ],
      "execution_count": 0,
      "outputs": [
        {
          "output_type": "execute_result",
          "data": {
            "text/plain": [
              "['__add__',\n",
              " '__class__',\n",
              " '__contains__',\n",
              " '__delattr__',\n",
              " '__delitem__',\n",
              " '__dir__',\n",
              " '__doc__',\n",
              " '__eq__',\n",
              " '__format__',\n",
              " '__ge__',\n",
              " '__getattribute__',\n",
              " '__getitem__',\n",
              " '__gt__',\n",
              " '__hash__',\n",
              " '__iadd__',\n",
              " '__imul__',\n",
              " '__init__',\n",
              " '__init_subclass__',\n",
              " '__iter__',\n",
              " '__le__',\n",
              " '__len__',\n",
              " '__lt__',\n",
              " '__mul__',\n",
              " '__ne__',\n",
              " '__new__',\n",
              " '__reduce__',\n",
              " '__reduce_ex__',\n",
              " '__repr__',\n",
              " '__reversed__',\n",
              " '__rmul__',\n",
              " '__setattr__',\n",
              " '__setitem__',\n",
              " '__sizeof__',\n",
              " '__str__',\n",
              " '__subclasshook__',\n",
              " 'append',\n",
              " 'clear',\n",
              " 'copy',\n",
              " 'count',\n",
              " 'extend',\n",
              " 'index',\n",
              " 'insert',\n",
              " 'pop',\n",
              " 'remove',\n",
              " 'reverse',\n",
              " 'sort']"
            ]
          },
          "metadata": {
            "tags": []
          },
          "execution_count": 147
        }
      ]
    },
    {
      "cell_type": "markdown",
      "metadata": {
        "colab_type": "text",
        "id": "9xfzMHebJkt4"
      },
      "source": [
        "## Karakter Dizilerinin Methotları ( String Methods )"
      ]
    },
    {
      "cell_type": "code",
      "metadata": {
        "colab_type": "code",
        "id": "RbUcubFiJkt5",
        "colab": {}
      },
      "source": [
        "string = 'Hikmet ÖZBEN'"
      ],
      "execution_count": 0,
      "outputs": []
    },
    {
      "cell_type": "code",
      "metadata": {
        "colab_type": "code",
        "id": "11EJ2W5xJkt6",
        "outputId": "638cb9e9-def6-46da-dcb0-fdd1a235499f",
        "colab": {
          "base_uri": "https://localhost:8080/",
          "height": 34
        }
      },
      "source": [
        "print(string[0])"
      ],
      "execution_count": 0,
      "outputs": [
        {
          "output_type": "stream",
          "text": [
            "H\n"
          ],
          "name": "stdout"
        }
      ]
    },
    {
      "cell_type": "code",
      "metadata": {
        "colab_type": "code",
        "id": "QHzrJbz-Jkt7",
        "outputId": "fe6c1fa6-beb6-4512-a7d1-6700ca4a2191",
        "colab": {
          "base_uri": "https://localhost:8080/",
          "height": 69
        }
      },
      "source": [
        "print(string[0:4])\n",
        "print(string[0:len(string)])\n",
        "print(string[0:len(string):2])"
      ],
      "execution_count": 0,
      "outputs": [
        {
          "output_type": "stream",
          "text": [
            "Hikm\n",
            "Hikmet ÖZBEN\n",
            "Hke ZE\n"
          ],
          "name": "stdout"
        }
      ]
    },
    {
      "cell_type": "code",
      "metadata": {
        "colab_type": "code",
        "id": "blONGE1PJkt_",
        "outputId": "39376a88-0d7f-472e-8211-a716974964ad",
        "colab": {
          "base_uri": "https://localhost:8080/",
          "height": 51
        }
      },
      "source": [
        "print(string.lower())\n",
        "print(string.upper())"
      ],
      "execution_count": 0,
      "outputs": [
        {
          "output_type": "stream",
          "text": [
            "hikmet özben\n",
            "HIKMET ÖZBEN\n"
          ],
          "name": "stdout"
        }
      ]
    },
    {
      "cell_type": "code",
      "metadata": {
        "colab_type": "code",
        "id": "5W0OEZHhJkuA",
        "outputId": "de83671f-2bc4-481d-aa90-d8487ae68a11",
        "colab": {
          "base_uri": "https://localhost:8080/",
          "height": 69
        }
      },
      "source": [
        "print(string)\n",
        "\n",
        "string = string.replace('ÖZBEN', 'BENOL')\n",
        "print(string)\n",
        "\n",
        "string = string.replace('Hikmet', 'Turgut')\n",
        "print(string)"
      ],
      "execution_count": 0,
      "outputs": [
        {
          "output_type": "stream",
          "text": [
            "Hikmet ÖZBEN\n",
            "Hikmet BENOL\n",
            "Turgut BENOL\n"
          ],
          "name": "stdout"
        }
      ]
    },
    {
      "cell_type": "code",
      "metadata": {
        "colab_type": "code",
        "id": "7e5Q7Q-pJkuB",
        "outputId": "64dcc07a-006e-4011-f90f-07184af5d59a",
        "colab": {
          "base_uri": "https://localhost:8080/",
          "height": 51
        }
      },
      "source": [
        "print(\"A\".islower())\n",
        "print(\"A\".isupper())"
      ],
      "execution_count": 0,
      "outputs": [
        {
          "output_type": "stream",
          "text": [
            "False\n",
            "True\n"
          ],
          "name": "stdout"
        }
      ]
    },
    {
      "cell_type": "code",
      "metadata": {
        "colab_type": "code",
        "id": "R5eCZqgcJkuD",
        "outputId": "ddd52c00-4a8e-4340-915b-538c8cf0a20b",
        "colab": {
          "base_uri": "https://localhost:8080/",
          "height": 51
        }
      },
      "source": [
        "print(string.startswith('Hikmet'))\n",
        "print(string.endswith('OL'))"
      ],
      "execution_count": 0,
      "outputs": [
        {
          "output_type": "stream",
          "text": [
            "False\n",
            "True\n"
          ],
          "name": "stdout"
        }
      ]
    },
    {
      "cell_type": "code",
      "metadata": {
        "colab_type": "code",
        "id": "xgXTiG3nJkuE",
        "outputId": "8b5b355e-27a4-47fe-fd11-86ce08fc1584",
        "colab": {
          "base_uri": "https://localhost:8080/",
          "height": 34
        }
      },
      "source": [
        "string.split()"
      ],
      "execution_count": 0,
      "outputs": [
        {
          "output_type": "execute_result",
          "data": {
            "text/plain": [
              "['Turgut', 'BENOL']"
            ]
          },
          "metadata": {
            "tags": []
          },
          "execution_count": 152
        }
      ]
    },
    {
      "cell_type": "code",
      "metadata": {
        "colab_type": "code",
        "id": "vkHYejIQJkuG",
        "outputId": "a38941d7-ae28-4fea-c00e-e7c19c08740f",
        "colab": {
          "base_uri": "https://localhost:8080/",
          "height": 34
        }
      },
      "source": [
        "string = string.split()\n",
        "string = \"cum \".join(string)\n",
        "print(string)"
      ],
      "execution_count": 0,
      "outputs": [
        {
          "output_type": "stream",
          "text": [
            "Turgutcum BENOL\n"
          ],
          "name": "stdout"
        }
      ]
    },
    {
      "cell_type": "code",
      "metadata": {
        "colab_type": "code",
        "id": "uKzCcZ03JkuH",
        "outputId": "c2eceb16-696e-47d9-94fb-77fe585fcf98",
        "colab": {
          "base_uri": "https://localhost:8080/",
          "height": 51
        }
      },
      "source": [
        "gezegenler = \"Merkür,Venüs,Dünya,Mars,Jüpiter,Satürn,Uranüs,Neptün\"\n",
        "gezegenler = gezegenler.split(\",\")\n",
        "print(gezegenler)\n",
        "\n",
        "sıralanmış_gezegenler = \" - \".join(sorted(gezegenler, reverse=True))\n",
        "\"\"\"\n",
        "sıralanmış_gezegenler = sorted(gezegenler)\n",
        "sıralanmış_gezegenler = sıralanmış_gezegenler[::-1]\n",
        "sıralanmış_gezgenler = \" - \".join(sıralanmış_gezegenler)\n",
        "print(sıralanmış_gezegenler)\n",
        "\"\"\"\n",
        "print(sıralanmış_gezegenler)\n"
      ],
      "execution_count": 0,
      "outputs": [
        {
          "output_type": "stream",
          "text": [
            "['Merkür', 'Venüs', 'Dünya', 'Mars', 'Jüpiter', 'Satürn', 'Uranüs', 'Neptün']\n",
            "Venüs - Uranüs - Satürn - Neptün - Merkür - Mars - Jüpiter - Dünya\n"
          ],
          "name": "stdout"
        }
      ]
    },
    {
      "cell_type": "code",
      "metadata": {
        "colab_type": "code",
        "id": "LTBL28HTJkuI",
        "outputId": "cdfeac15-0315-482e-f336-4b0979abc247",
        "colab": {
          "base_uri": "https://localhost:8080/",
          "height": 34
        }
      },
      "source": [
        "gezegenler = \"     Merkür Venüs Dünya Mars Jüpiter Satürn Uranüs Neptün       \"\n",
        "gezegenler.strip()"
      ],
      "execution_count": 0,
      "outputs": [
        {
          "output_type": "execute_result",
          "data": {
            "text/plain": [
              "'Merkür Venüs Dünya Mars Jüpiter Satürn Uranüs Neptün'"
            ]
          },
          "metadata": {
            "tags": []
          },
          "execution_count": 155
        }
      ]
    },
    {
      "cell_type": "code",
      "metadata": {
        "colab_type": "code",
        "id": "PJqqFF7OJkuJ",
        "outputId": "c3b4b9b1-07aa-4566-d2be-5f26a0db123c",
        "colab": {
          "base_uri": "https://localhost:8080/",
          "height": 34
        }
      },
      "source": [
        "gezegenler = \"     Merkür Venüs Dünya Mars Jüpiter Satürn Uranüs Neptün       \"\n",
        "gezegenler.lstrip()"
      ],
      "execution_count": 0,
      "outputs": [
        {
          "output_type": "execute_result",
          "data": {
            "text/plain": [
              "'Merkür Venüs Dünya Mars Jüpiter Satürn Uranüs Neptün       '"
            ]
          },
          "metadata": {
            "tags": []
          },
          "execution_count": 156
        }
      ]
    },
    {
      "cell_type": "markdown",
      "metadata": {
        "colab_type": "text",
        "id": "V0B2QkdWJkuK"
      },
      "source": [
        "## Fonksiyonlar ( Functions )"
      ]
    },
    {
      "cell_type": "code",
      "metadata": {
        "colab_type": "code",
        "id": "msp6-4AjJkuK",
        "outputId": "315826e3-e1d0-4ed9-bf08-0d4fe9ba7bd3",
        "colab": {
          "base_uri": "https://localhost:8080/",
          "height": 241
        }
      },
      "source": [
        "def not_hesaplama(ad, puanlar):\n",
        "    ortalama = 0\n",
        "    for puan in puanlar:\n",
        "        ortalama += puan\n",
        "    ortalama /= len(puanlar)\n",
        "    #ortalama = sum(puanlar) / len(puanlar)\n",
        "    \n",
        "    if ortalama > 90:\n",
        "        harf = 'A'\n",
        "    elif ortalama > 80:\n",
        "        harf = 'B'\n",
        "    elif ortalama > 60:\n",
        "        harf = 'C'\n",
        "    elif ortalama > 50:\n",
        "        harf = 'D'\n",
        "    else:\n",
        "        harf = 'F'\n",
        "    \n",
        "    print(f'\\nİsim: {ad}\\nOrtalama: {ortalama:.2f}\\nHarf notu: {harf}\\n', end=\"-\"*20)\n",
        "\n",
        "not_hesaplama('Ahmet DENİZ', (60, 100, 75))\n",
        "not_hesaplama('Aylin TÜRK', (20, 50, 65))\n",
        "not_hesaplama('Murat YILMAZ', (100, 100, 85))"
      ],
      "execution_count": 0,
      "outputs": [
        {
          "output_type": "stream",
          "text": [
            "\n",
            "İsim: Ahmet DENİZ\n",
            "Ortalama: 78.33\n",
            "Harf notu: C\n",
            "--------------------\n",
            "İsim: Aylin TÜRK\n",
            "Ortalama: 45.00\n",
            "Harf notu: F\n",
            "--------------------\n",
            "İsim: Murat YILMAZ\n",
            "Ortalama: 95.00\n",
            "Harf notu: A\n",
            "--------------------"
          ],
          "name": "stdout"
        }
      ]
    },
    {
      "cell_type": "code",
      "metadata": {
        "colab_type": "code",
        "id": "0S3WZf4kJkuL",
        "outputId": "36ca72d2-5089-4a25-8a8b-b7e487e1c657",
        "colab": {
          "base_uri": "https://localhost:8080/",
          "height": 69
        }
      },
      "source": [
        "def carp(a=10, b=10):\n",
        "    sonuc = a * b\n",
        "    return sonuc\n",
        "\n",
        "sonuc = carp()\n",
        "print(sonuc)\n",
        "\n",
        "print(carp(5, 4))\n",
        "print(carp(b=32, a=2))"
      ],
      "execution_count": 0,
      "outputs": [
        {
          "output_type": "stream",
          "text": [
            "100\n",
            "20\n",
            "64\n"
          ],
          "name": "stdout"
        }
      ]
    },
    {
      "cell_type": "code",
      "metadata": {
        "colab_type": "code",
        "id": "Il7Fjz8jJkuQ",
        "outputId": "ac44269a-1cd9-45e8-d753-12ddc96ae9c6",
        "colab": {
          "base_uri": "https://localhost:8080/",
          "height": 51
        }
      },
      "source": [
        "a = 5\n",
        "def a_degistirme():\n",
        "    a = 10\n",
        "    print(a)\n",
        "a_degistirme()\n",
        "print(a)"
      ],
      "execution_count": 0,
      "outputs": [
        {
          "output_type": "stream",
          "text": [
            "10\n",
            "5\n"
          ],
          "name": "stdout"
        }
      ]
    },
    {
      "cell_type": "code",
      "metadata": {
        "colab_type": "code",
        "id": "Ea_sU_BGJkuR",
        "outputId": "da5c63a2-9bd1-4d3d-8941-068eca544c2e",
        "colab": {
          "base_uri": "https://localhost:8080/",
          "height": 51
        }
      },
      "source": [
        "a = 5\n",
        "def a_degistirme():\n",
        "    global a\n",
        "    a = 10\n",
        "    print(a)\n",
        "a_degistirme()\n",
        "print(a)"
      ],
      "execution_count": 0,
      "outputs": [
        {
          "output_type": "stream",
          "text": [
            "10\n",
            "10\n"
          ],
          "name": "stdout"
        }
      ]
    },
    {
      "cell_type": "markdown",
      "metadata": {
        "colab_type": "text",
        "id": "rGfUR7zJJkuS"
      },
      "source": [
        "## Nesne Yönelimli Programlama GİRİŞ ( Beginning OOP )"
      ]
    },
    {
      "cell_type": "code",
      "metadata": {
        "colab_type": "code",
        "id": "dx6d34ekJkuS",
        "outputId": "f507ee99-3d5b-4d8d-8427-9227c79b99d8",
        "colab": {
          "base_uri": "https://localhost:8080/",
          "height": 69
        }
      },
      "source": [
        "class Araba:\n",
        "    def sür(self):\n",
        "        print('Araba gidiyor..')\n",
        "    \n",
        "    def dur(self):\n",
        "        print('Araba duruyor..')\n",
        "        \n",
        "\n",
        "araba = Araba()\n",
        "araba.sür()\n",
        "araba.dur()\n",
        "araba.sür()"
      ],
      "execution_count": 0,
      "outputs": [
        {
          "output_type": "stream",
          "text": [
            "Araba gidiyor..\n",
            "Araba duruyor..\n",
            "Araba gidiyor..\n"
          ],
          "name": "stdout"
        }
      ]
    },
    {
      "cell_type": "code",
      "metadata": {
        "colab_type": "code",
        "id": "oo_b3X7UJkuT",
        "colab": {}
      },
      "source": [
        "class Araba:\n",
        "    \"\"\"\n",
        "    Python dersi için tanımladığımız araba sınıfımız.\n",
        "    -------------------------------------------------\n",
        "    Sınıf içerisinde arabanın yapmasını istediğimiz \n",
        "    ve yapabileceği fonksiyonları barındırıyor.\n",
        "    \"\"\"\n",
        "    def __init__(self, marka, model, yıl, renk):\n",
        "        \"\"\"\n",
        "        Bir nesne oluştururken aşağıdaki parametreleri\n",
        "        vermeyi unutmayın!\n",
        "        => Marka, Model, Yıl ve Renk\n",
        "        \"\"\"\n",
        "        self.marka = marka\n",
        "        self.model = model\n",
        "        self.yıl = yıl\n",
        "        self.renk = renk\n",
        "        self.durum = 0\n",
        "        \"\"\"\n",
        "        0: Kapalı\n",
        "        1: Çalışır halde duruyor\n",
        "        2: Gidiyor\n",
        "        \"\"\"\n",
        "        \n",
        "    def çalıştır(self):\n",
        "        self.durum = 1 if not self.durum else 1\n",
        "    \n",
        "    def durdur(self):\n",
        "        self.durum = 0 if self.durum else 1\n",
        "        \n",
        "    def sür(self):\n",
        "        if self.durum:\n",
        "            print('{} gidiyor'.format(self.model))\n",
        "            self.durum = 2\n",
        "        else:\n",
        "            print('Önce arabayı çalıştır')\n",
        "    \n",
        "    def dur(self):\n",
        "        if self.durum:\n",
        "            print('{} duruyor'.format(self.model))\n",
        "            self.durum = 1\n",
        "        else:\n",
        "            print('Önce arabayı çalıştır')\n",
        "            \n",
        "    def özellikleri_yazdır(self):\n",
        "        print(f\"Marka: {self.marka:<10}\\\n",
        "        Model: {self.model:<10}\\\n",
        "        Yıl: {self.yıl:<10}\\\n",
        "        Renk: {self.renk:<10}\")"
      ],
      "execution_count": 0,
      "outputs": []
    },
    {
      "cell_type": "code",
      "metadata": {
        "colab_type": "code",
        "id": "fNQfyFq2JkuU",
        "outputId": "65db38a2-0c39-48d8-e788-7b4dfb0eb5b2",
        "colab": {
          "base_uri": "https://localhost:8080/",
          "height": 671
        }
      },
      "source": [
        "help(Araba)\n",
        "\n",
        "araba1 = Araba('Dodge', 'Challenger', '2016', 'Siyah')\n",
        "araba1.sür()\n",
        "araba1.çalıştır()\n",
        "araba1.sür()\n",
        "araba1.özellikleri_yazdır()\n",
        "araba1.dur()"
      ],
      "execution_count": 0,
      "outputs": [
        {
          "output_type": "stream",
          "text": [
            "Help on class Araba in module __main__:\n",
            "\n",
            "class Araba(builtins.object)\n",
            " |  Python dersi için tanımladığımız araba sınıfımız.\n",
            " |  -------------------------------------------------\n",
            " |  Sınıf içerisinde arabanın yapmasını istediğimiz \n",
            " |  ve yapabileceği fonksiyonları barındırıyor.\n",
            " |  \n",
            " |  Methods defined here:\n",
            " |  \n",
            " |  __init__(self, marka, model, yıl, renk)\n",
            " |      Bir nesne oluştururken aşağıdaki parametreleri\n",
            " |      vermeyi unutmayın!\n",
            " |      => Marka, Model, Yıl ve Renk\n",
            " |  \n",
            " |  dur(self)\n",
            " |  \n",
            " |  durdur(self)\n",
            " |  \n",
            " |  sür(self)\n",
            " |  \n",
            " |  çalıştır(self)\n",
            " |  \n",
            " |  özellikleri_yazdır(self)\n",
            " |  \n",
            " |  ----------------------------------------------------------------------\n",
            " |  Data descriptors defined here:\n",
            " |  \n",
            " |  __dict__\n",
            " |      dictionary for instance variables (if defined)\n",
            " |  \n",
            " |  __weakref__\n",
            " |      list of weak references to the object (if defined)\n",
            "\n",
            "Önce arabayı çalıştır\n",
            "Challenger gidiyor\n",
            "Marka: Dodge             Model: Challenger        Yıl: 2016              Renk: Siyah     \n",
            "Challenger duruyor\n"
          ],
          "name": "stdout"
        }
      ]
    },
    {
      "cell_type": "code",
      "metadata": {
        "colab_type": "code",
        "id": "iXoLgEdTJkuV",
        "outputId": "94ac373c-63a6-4f80-8adb-103e6d80c3ab",
        "colab": {
          "base_uri": "https://localhost:8080/",
          "height": 106
        }
      },
      "source": [
        "araba2 = Araba('Ford', 'Mustang', '1971', 'Sarı-Siyah')\n",
        "araba2.sür()\n",
        "araba2.çalıştır()\n",
        "araba2.sür()\n",
        "araba2.özellikleri_yazdır()\n",
        "araba2.dur()"
      ],
      "execution_count": 0,
      "outputs": [
        {
          "output_type": "stream",
          "text": [
            "Önce arabayı çalıştır\n",
            "Mustang gidiyor\n",
            "Marka: Ford              Model: Mustang           Yıl: 1971              Renk: Sarı-Siyah\n",
            "Mustang duruyor\n"
          ],
          "name": "stdout"
        }
      ]
    },
    {
      "cell_type": "code",
      "metadata": {
        "colab_type": "code",
        "id": "VeA3fllZJkuW",
        "colab": {}
      },
      "source": [
        ""
      ],
      "execution_count": 0,
      "outputs": []
    },
    {
      "cell_type": "code",
      "metadata": {
        "colab_type": "code",
        "id": "GC4xL7T2JkuX",
        "colab": {}
      },
      "source": [
        ""
      ],
      "execution_count": 0,
      "outputs": []
    },
    {
      "cell_type": "code",
      "metadata": {
        "colab_type": "code",
        "id": "_nduNsrIJkuX",
        "colab": {}
      },
      "source": [
        ""
      ],
      "execution_count": 0,
      "outputs": []
    },
    {
      "cell_type": "code",
      "metadata": {
        "colab_type": "code",
        "id": "R2a8KdLPJkuZ",
        "colab": {}
      },
      "source": [
        ""
      ],
      "execution_count": 0,
      "outputs": []
    },
    {
      "cell_type": "code",
      "metadata": {
        "colab_type": "code",
        "id": "SYyLUCibJkua",
        "colab": {}
      },
      "source": [
        ""
      ],
      "execution_count": 0,
      "outputs": []
    },
    {
      "cell_type": "code",
      "metadata": {
        "colab_type": "code",
        "id": "ltYFce7KJkub",
        "colab": {}
      },
      "source": [
        ""
      ],
      "execution_count": 0,
      "outputs": []
    }
  ]
}